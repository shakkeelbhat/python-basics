{
 "cells": [
  {
   "cell_type": "code",
   "execution_count": 1,
   "id": "500954cb",
   "metadata": {},
   "outputs": [],
   "source": [
    "class Node:\n",
    "    \n",
    "    def __init__(self,key):\n",
    "        self.key=key\n",
    "        self.next=None"
   ]
  },
  {
   "cell_type": "code",
   "execution_count": 2,
   "id": "4aac18c4",
   "metadata": {},
   "outputs": [],
   "source": [
    "temp1=Node(1)"
   ]
  },
  {
   "cell_type": "code",
   "execution_count": 3,
   "id": "081843dc",
   "metadata": {},
   "outputs": [],
   "source": [
    "temp2=Node(2)"
   ]
  },
  {
   "cell_type": "code",
   "execution_count": 4,
   "id": "b1ca077e",
   "metadata": {},
   "outputs": [],
   "source": [
    "temp3=Node(3)\n",
    "temp4=Node(8)\n"
   ]
  },
  {
   "cell_type": "code",
   "execution_count": 5,
   "id": "6661782e",
   "metadata": {},
   "outputs": [],
   "source": [
    "temp1.next=temp2\n",
    "temp2.next=temp3\n",
    "temp3.next=temp4\n",
    "head=temp1"
   ]
  },
  {
   "cell_type": "code",
   "execution_count": 6,
   "id": "cfd73fa4",
   "metadata": {},
   "outputs": [],
   "source": [
    "def list_nodes(head):#print list keys\n",
    "    curr=head\n",
    "    while curr != None:\n",
    "        print(curr.key)\n",
    "        curr=curr.next"
   ]
  },
  {
   "cell_type": "code",
   "execution_count": 7,
   "id": "31e6635b",
   "metadata": {},
   "outputs": [],
   "source": [
    "def searchLL(head,x):#search position of element\n",
    "    curr=head\n",
    "    pos=1\n",
    "    while curr!=None:\n",
    "        if curr.key==x:\n",
    "            return pos\n",
    "        pos +=1\n",
    "        curr=curr.next\n",
    "    return -1"
   ]
  },
  {
   "cell_type": "code",
   "execution_count": 8,
   "id": "5f609e88",
   "metadata": {},
   "outputs": [
    {
     "data": {
      "text/plain": [
       "-1"
      ]
     },
     "execution_count": 8,
     "metadata": {},
     "output_type": "execute_result"
    }
   ],
   "source": [
    "searchLL(temp1,9)"
   ]
  },
  {
   "cell_type": "code",
   "execution_count": 9,
   "id": "172a5666",
   "metadata": {},
   "outputs": [],
   "source": [
    "def ins_beg_LL(head,x):\n",
    "    temp=Node(x)\n",
    "    temp.next=head\n",
    "    return temp"
   ]
  },
  {
   "cell_type": "code",
   "execution_count": 10,
   "id": "6439f309",
   "metadata": {},
   "outputs": [],
   "source": [
    "head = ins_beg_LL(temp1,0)"
   ]
  },
  {
   "cell_type": "code",
   "execution_count": 11,
   "id": "cfd85500",
   "metadata": {},
   "outputs": [
    {
     "name": "stdout",
     "output_type": "stream",
     "text": [
      "0\n",
      "1\n",
      "2\n",
      "3\n",
      "8\n"
     ]
    }
   ],
   "source": [
    "list_nodes(head)"
   ]
  },
  {
   "cell_type": "code",
   "execution_count": 12,
   "id": "fcb47cf3",
   "metadata": {},
   "outputs": [],
   "source": [
    "def ins_end_LL(head,x):\n",
    "    \n",
    "    if head==None:\n",
    "        return Node(x)\n",
    "    temp=Node(x)\n",
    "    curr= head\n",
    "    while curr.next is not None:\n",
    "        curr=curr.next\n",
    "    curr.next=temp\n",
    "    return head\n",
    "        "
   ]
  },
  {
   "cell_type": "code",
   "execution_count": 13,
   "id": "72ebc6eb",
   "metadata": {},
   "outputs": [],
   "source": [
    "head=ins_end_LL(temp1,10)"
   ]
  },
  {
   "cell_type": "code",
   "execution_count": 14,
   "id": "41ad0e5b",
   "metadata": {},
   "outputs": [
    {
     "name": "stdout",
     "output_type": "stream",
     "text": [
      "1\n",
      "2\n",
      "3\n",
      "8\n",
      "10\n"
     ]
    }
   ],
   "source": [
    "list_nodes(head)"
   ]
  },
  {
   "cell_type": "code",
   "execution_count": 15,
   "id": "82e9c018",
   "metadata": {},
   "outputs": [],
   "source": [
    "def ins_pos_LL(head,pos,data):\n",
    "    temp=Node(data)\n",
    "    if pos==1:\n",
    "        temp.next=head\n",
    "        return temp #as head\n",
    "    curr=head\n",
    "    for i in range(pos-2):\n",
    "        curr =curr.next\n",
    "        if curr is None:\n",
    "            return head\n",
    "    temp.next=curr.next\n",
    "    curr.next=temp\n",
    "    return head"
   ]
  },
  {
   "cell_type": "code",
   "execution_count": 16,
   "id": "e0980082",
   "metadata": {},
   "outputs": [],
   "source": [
    "head = ins_pos_LL(head,4,7)"
   ]
  },
  {
   "cell_type": "code",
   "execution_count": 17,
   "id": "cf1ad029",
   "metadata": {},
   "outputs": [
    {
     "name": "stdout",
     "output_type": "stream",
     "text": [
      "1\n",
      "2\n",
      "3\n",
      "7\n",
      "8\n",
      "10\n"
     ]
    }
   ],
   "source": [
    "list_nodes(head)"
   ]
  },
  {
   "cell_type": "code",
   "execution_count": 18,
   "id": "7c638a13",
   "metadata": {},
   "outputs": [],
   "source": [
    "def del_first_LL(head):\n",
    "    if head is None:\n",
    "        return None\n",
    "    else:\n",
    "        return head.next"
   ]
  },
  {
   "cell_type": "code",
   "execution_count": 19,
   "id": "42f6e59d",
   "metadata": {},
   "outputs": [],
   "source": [
    "head=del_first_LL(head)"
   ]
  },
  {
   "cell_type": "code",
   "execution_count": 20,
   "id": "4e39bb4c",
   "metadata": {},
   "outputs": [
    {
     "name": "stdout",
     "output_type": "stream",
     "text": [
      "2\n",
      "3\n",
      "7\n",
      "8\n",
      "10\n"
     ]
    }
   ],
   "source": [
    "list_nodes(head)"
   ]
  },
  {
   "cell_type": "code",
   "execution_count": 21,
   "id": "c0f83caa",
   "metadata": {},
   "outputs": [],
   "source": [
    "def del_last_LL(head):\n",
    "    if head is None:\n",
    "        return None\n",
    "    if head.next is None:\n",
    "        return None\n",
    "    curr = head\n",
    "    while curr.next.next != None:\n",
    "        curr=curr.next\n",
    "    curr.next=None\n",
    "    return head"
   ]
  },
  {
   "cell_type": "code",
   "execution_count": 22,
   "id": "55277085",
   "metadata": {},
   "outputs": [],
   "source": [
    "head=del_last_LL(head)"
   ]
  },
  {
   "cell_type": "code",
   "execution_count": 23,
   "id": "b91e8b65",
   "metadata": {},
   "outputs": [
    {
     "name": "stdout",
     "output_type": "stream",
     "text": [
      "2\n",
      "3\n",
      "7\n",
      "8\n"
     ]
    }
   ],
   "source": [
    "list_nodes(head)"
   ]
  },
  {
   "cell_type": "code",
   "execution_count": 24,
   "id": "c76e08d2",
   "metadata": {},
   "outputs": [],
   "source": [
    "def sorted_insert_LL(head,x):\n",
    "    temp=Node(x)\n",
    "    if head is None:\n",
    "        return temp\n",
    "    elif x < head.key:\n",
    "        temp.next=head\n",
    "        head=temp\n",
    "        return temp\n",
    "    else:\n",
    "        curr=head\n",
    "\n",
    "        while curr.next != None and curr.next.key < x:\n",
    "            curr=curr.next\n",
    "        temp.next=curr.next\n",
    "        curr.next=temp\n",
    "        return head"
   ]
  },
  {
   "cell_type": "code",
   "execution_count": 25,
   "id": "dea82c51",
   "metadata": {},
   "outputs": [],
   "source": [
    "head=sorted_insert_LL(head,9)"
   ]
  },
  {
   "cell_type": "code",
   "execution_count": 26,
   "id": "ad596f63",
   "metadata": {},
   "outputs": [
    {
     "name": "stdout",
     "output_type": "stream",
     "text": [
      "2\n",
      "3\n",
      "7\n",
      "8\n",
      "9\n"
     ]
    }
   ],
   "source": [
    "list_nodes(head)"
   ]
  },
  {
   "cell_type": "code",
   "execution_count": 27,
   "id": "003bdbbc",
   "metadata": {},
   "outputs": [],
   "source": [
    "def reverse_LL(head):\n",
    "    curr=head\n",
    "    prev=None\n",
    "    while curr is not None:\n",
    "        next=curr.next\n",
    "        curr.next=prev\n",
    "        prev=curr\n",
    "        curr=next\n",
    "    return prev"
   ]
  },
  {
   "cell_type": "code",
   "execution_count": 28,
   "id": "c8ac5008",
   "metadata": {},
   "outputs": [],
   "source": [
    "head=reverse_LL(head)"
   ]
  },
  {
   "cell_type": "code",
   "execution_count": 29,
   "id": "f22e055a",
   "metadata": {},
   "outputs": [
    {
     "name": "stdout",
     "output_type": "stream",
     "text": [
      "9\n",
      "8\n",
      "7\n",
      "3\n",
      "2\n"
     ]
    }
   ],
   "source": [
    "list_nodes(head)"
   ]
  },
  {
   "cell_type": "code",
   "execution_count": 30,
   "id": "d21814a2",
   "metadata": {},
   "outputs": [],
   "source": [
    "def rec_reverse_LL(curr,prev=None):\n",
    "    if curr is None:\n",
    "        return prev\n",
    "    print(curr.key)\n",
    "    nextt=curr.next\n",
    "    curr.next=prev\n",
    "    return rec_reverse_LL(nextt,curr)# x1,x2,x3,x4 ....last call will be (None,x4)-->as x4.next is None and then x4 returned as head since curr at last call is None and prev is x4"
   ]
  },
  {
   "cell_type": "code",
   "execution_count": 31,
   "id": "39b62998",
   "metadata": {},
   "outputs": [
    {
     "name": "stdout",
     "output_type": "stream",
     "text": [
      "9\n",
      "8\n",
      "7\n",
      "3\n",
      "2\n"
     ]
    }
   ],
   "source": [
    "head= rec_reverse_LL(head)"
   ]
  },
  {
   "cell_type": "code",
   "execution_count": 32,
   "id": "679badc8",
   "metadata": {},
   "outputs": [
    {
     "name": "stdout",
     "output_type": "stream",
     "text": [
      "2\n",
      "3\n",
      "7\n",
      "8\n",
      "9\n"
     ]
    }
   ],
   "source": [
    "list_nodes(head)"
   ]
  },
  {
   "cell_type": "code",
   "execution_count": 33,
   "id": "84aeced9",
   "metadata": {},
   "outputs": [],
   "source": [
    "def reverse2_LL(head,prev=None):\n",
    "    if head is None:\n",
    "        return head\n",
    "    if head.next is None:\n",
    "        return head\n",
    "    \n",
    "    rest_head=reverse2_LL(head.next)\n",
    "    rest_tail=head.next\n",
    "    rest_tail.next=head\n",
    "    head.next=None\n",
    "    return rest_head"
   ]
  },
  {
   "cell_type": "code",
   "execution_count": 34,
   "id": "8175a51d",
   "metadata": {},
   "outputs": [],
   "source": [
    "head= reverse2_LL(head,None)"
   ]
  },
  {
   "cell_type": "code",
   "execution_count": 35,
   "id": "6c4f0e58",
   "metadata": {},
   "outputs": [
    {
     "name": "stdout",
     "output_type": "stream",
     "text": [
      "9\n",
      "8\n",
      "7\n",
      "3\n",
      "2\n"
     ]
    }
   ],
   "source": [
    "list_nodes(head)"
   ]
  },
  {
   "cell_type": "raw",
   "id": "98798b3c",
   "metadata": {},
   "source": [
    "#x1.x2.x3.x4\n",
    "\n",
    "x1[rec(x2)]->x1[x2[rec(x3)]]->x1[x2[x3[rec(x4)]]]\n",
    "\n",
    "\n",
    "\n",
    "x1[rec(x2)]->x1[x2[rec(x3)]]<-x4\n",
    "x1[rec(x2)]->x2[x3<-x4]\n",
    "x1[rec(x2)]->[x2<-x3<-x4]\n",
    "x1<-x2<-x3<-x4\n"
   ]
  },
  {
   "cell_type": "code",
   "execution_count": 36,
   "id": "385f704d",
   "metadata": {},
   "outputs": [],
   "source": [
    "#print odd elements\n",
    "def takeOddOnesout(head):\n",
    "    tag=0\n",
    "    curr=head\n",
    "    while curr is not None:\n",
    "        \n",
    "        if tag==0: \n",
    "            tag +=1\n",
    "            print('element is :',curr.key)\n",
    "        else:\n",
    "            tag -=1\n",
    "        curr=curr.next\n",
    "    return head\n",
    "            \n",
    "            \n",
    "    "
   ]
  },
  {
   "cell_type": "code",
   "execution_count": 37,
   "id": "6a280c13",
   "metadata": {},
   "outputs": [],
   "source": [
    "#head=takeOddOnesout(head)"
   ]
  },
  {
   "cell_type": "code",
   "execution_count": 38,
   "id": "1e3ee3c3",
   "metadata": {},
   "outputs": [
    {
     "name": "stdout",
     "output_type": "stream",
     "text": [
      "9\n",
      "8\n",
      "7\n",
      "3\n",
      "2\n"
     ]
    }
   ],
   "source": [
    "list_nodes(head)"
   ]
  },
  {
   "cell_type": "code",
   "execution_count": 39,
   "id": "720f33f1",
   "metadata": {},
   "outputs": [],
   "source": [
    "#remove odd elements\n",
    "def removealternateafterfirst(head):\n",
    "    if head is None:\n",
    "        return head\n",
    "    if head.next is None:\n",
    "        return head\n",
    "    curr=head\n",
    "    tag=0\n",
    "    while curr.next is not None:\n",
    "        if curr.next.next is None:\n",
    "            curr.next=curr.next.next\n",
    "            return head\n",
    "        curr.next=curr.next.next\n",
    "        curr=curr.next\n",
    "    return head\n",
    "            \n",
    "            \n",
    "    "
   ]
  },
  {
   "cell_type": "code",
   "execution_count": 46,
   "id": "8a6915dc",
   "metadata": {},
   "outputs": [],
   "source": [
    "head=removealternateafterfirst(head)"
   ]
  },
  {
   "cell_type": "code",
   "execution_count": 47,
   "id": "ff3e3821",
   "metadata": {},
   "outputs": [
    {
     "name": "stdout",
     "output_type": "stream",
     "text": [
      "9\n"
     ]
    }
   ],
   "source": [
    "list_nodes(head)"
   ]
  },
  {
   "cell_type": "code",
   "execution_count": 48,
   "id": "e4c1b6ce",
   "metadata": {},
   "outputs": [
    {
     "name": "stdout",
     "output_type": "stream",
     "text": [
      "The value of number till 2 decimal place(using %) is : 3.45\n",
      "The value of number till 2 decimal place(using format()) is : 3.454\n",
      "The value of number till 2 decimal place(using round()) is : 3.45\n"
     ]
    }
   ],
   "source": [
    "a = 3.4536\n",
    " \n",
    "# using \"%\" to print value till 2 decimal places\n",
    "print(\"The value of number till 2 decimal place(using %) is : \", end=\"\")\n",
    "print('%.2f' % a)\n",
    " \n",
    "# using format() to print value till 3 decimal places\n",
    "print(\"The value of number till 2 decimal place(using format()) is : \", end=\"\")\n",
    "print(\"{0:.3f}\".format(a))\n",
    " \n",
    "# using round() to print value till 2 decimal places\n",
    "print(\"The value of number till 2 decimal place(using round()) is : \", end=\"\")\n",
    "print(round(a, 2))"
   ]
  },
  {
   "cell_type": "code",
   "execution_count": 84,
   "id": "57b5de36",
   "metadata": {},
   "outputs": [],
   "source": [
    "def staircase(n):\n",
    "    for i in range(1,n+1):\n",
    "        if i <= n:\n",
    "            print('1'*(n-i),'#'*i)"
   ]
  },
  {
   "cell_type": "code",
   "execution_count": 85,
   "id": "e6cadd96",
   "metadata": {},
   "outputs": [
    {
     "name": "stdout",
     "output_type": "stream",
     "text": [
      "11111 #\n",
      "1111 ##\n",
      "111 ###\n",
      "11 ####\n",
      "1 #####\n",
      " ######\n"
     ]
    }
   ],
   "source": [
    "staircase(6)"
   ]
  },
  {
   "cell_type": "code",
   "execution_count": 88,
   "id": "4f492018",
   "metadata": {},
   "outputs": [],
   "source": [
    "def staircase(n):\n",
    "    for i in range(1,n+1):\n",
    "        if i <= n:\n",
    "            var='1'*(n-i)+'#'*i\n",
    "            print(var)"
   ]
  },
  {
   "cell_type": "code",
   "execution_count": 89,
   "id": "eeb3abfc",
   "metadata": {},
   "outputs": [
    {
     "name": "stdout",
     "output_type": "stream",
     "text": [
      "11111#\n",
      "1111##\n",
      "111###\n",
      "11####\n",
      "1#####\n",
      "######\n"
     ]
    }
   ],
   "source": [
    "staircase(6)"
   ]
  },
  {
   "cell_type": "code",
   "execution_count": 106,
   "id": "b9844be2",
   "metadata": {},
   "outputs": [],
   "source": [
    "def miniMaxSum(arr):\n",
    "    sumArr=[]\n",
    "    for i in range(len(arr)):\n",
    "        sumArr.append(sum(arr)-arr[i])\n",
    "    return f\"{min(sumArr)} {max(sumArr)}\""
   ]
  },
  {
   "cell_type": "code",
   "execution_count": 105,
   "id": "75ba7be9",
   "metadata": {},
   "outputs": [
    {
     "data": {
      "text/plain": [
       "'10  14'"
      ]
     },
     "execution_count": 105,
     "metadata": {},
     "output_type": "execute_result"
    }
   ],
   "source": [
    "miniMaxSum([1,2,3,4,5])"
   ]
  },
  {
   "cell_type": "code",
   "execution_count": 100,
   "id": "7757fdaf",
   "metadata": {},
   "outputs": [],
   "source": [
    "sumArr=[]"
   ]
  },
  {
   "cell_type": "code",
   "execution_count": 101,
   "id": "3c7633c5",
   "metadata": {},
   "outputs": [
    {
     "ename": "IndexError",
     "evalue": "list assignment index out of range",
     "output_type": "error",
     "traceback": [
      "\u001b[1;31m---------------------------------------------------------------------------\u001b[0m",
      "\u001b[1;31mIndexError\u001b[0m                                Traceback (most recent call last)",
      "Cell \u001b[1;32mIn [101], line 1\u001b[0m\n\u001b[1;32m----> 1\u001b[0m sumArr[\u001b[38;5;241m0\u001b[39m]\u001b[38;5;241m=\u001b[39m\u001b[38;5;241m1\u001b[39m\n",
      "\u001b[1;31mIndexError\u001b[0m: list assignment index out of range"
     ]
    }
   ],
   "source": [
    "sumArr[0]=1"
   ]
  },
  {
   "cell_type": "code",
   "execution_count": null,
   "id": "27676fbc",
   "metadata": {},
   "outputs": [],
   "source": []
  }
 ],
 "metadata": {
  "kernelspec": {
   "display_name": "Python 3 (ipykernel)",
   "language": "python",
   "name": "python3"
  },
  "language_info": {
   "codemirror_mode": {
    "name": "ipython",
    "version": 3
   },
   "file_extension": ".py",
   "mimetype": "text/x-python",
   "name": "python",
   "nbconvert_exporter": "python",
   "pygments_lexer": "ipython3",
   "version": "3.10.7"
  }
 },
 "nbformat": 4,
 "nbformat_minor": 5
}
