{
 "cells": [
  {
   "cell_type": "markdown",
   "id": "e53d4c53",
   "metadata": {},
   "source": [
    "Dictionary\n",
    "\n",
    "\n",
    "collection of key-value pairs\n",
    "\n",
    "\n",
    "unordered\n",
    "\n",
    "\n",
    "All keys are distinct\n",
    "\n",
    "values may be repeated\n",
    "\n",
    "Uses Hashing internally\n",
    "\n",
    "d={\"key1\":\"value1\",\"key2\":\"value2\"}"
   ]
  },
  {
   "cell_type": "code",
   "execution_count": 56,
   "id": "1ea6c182",
   "metadata": {},
   "outputs": [],
   "source": [
    "d={\"key1\":\"value1\",\"key2\":\"value2\"}"
   ]
  },
  {
   "cell_type": "code",
   "execution_count": 57,
   "id": "ce9bcc56",
   "metadata": {},
   "outputs": [],
   "source": [
    "d['key3']='value3'"
   ]
  },
  {
   "cell_type": "code",
   "execution_count": 58,
   "id": "675212c5",
   "metadata": {},
   "outputs": [
    {
     "data": {
      "text/plain": [
       "{'key1': 'value1', 'key2': 'value2', 'key3': 'value3'}"
      ]
     },
     "execution_count": 58,
     "metadata": {},
     "output_type": "execute_result"
    }
   ],
   "source": [
    "d"
   ]
  },
  {
   "cell_type": "code",
   "execution_count": 2,
   "id": "99bac339",
   "metadata": {},
   "outputs": [
    {
     "data": {
      "text/plain": [
       "'value2'"
      ]
     },
     "execution_count": 2,
     "metadata": {},
     "output_type": "execute_result"
    }
   ],
   "source": [
    "d.get(\"key2\")"
   ]
  },
  {
   "cell_type": "code",
   "execution_count": 3,
   "id": "01df54c3",
   "metadata": {},
   "outputs": [],
   "source": [
    "d.get('value3')  # doesn't raise exception #"
   ]
  },
  {
   "cell_type": "code",
   "execution_count": 4,
   "id": "48ce24c5",
   "metadata": {},
   "outputs": [
    {
     "name": "stdout",
     "output_type": "stream",
     "text": [
      "None\n"
     ]
    }
   ],
   "source": [
    "print(d.get('value3'))"
   ]
  },
  {
   "cell_type": "code",
   "execution_count": 8,
   "id": "5f809a8a",
   "metadata": {},
   "outputs": [
    {
     "data": {
      "text/plain": [
       "'NA'"
      ]
     },
     "execution_count": 8,
     "metadata": {},
     "output_type": "execute_result"
    }
   ],
   "source": [
    "d.get('value3','NA') #put default value if key not in dictionary"
   ]
  },
  {
   "cell_type": "code",
   "execution_count": 9,
   "id": "c4555df1",
   "metadata": {},
   "outputs": [
    {
     "data": {
      "text/plain": [
       "'value2'"
      ]
     },
     "execution_count": 9,
     "metadata": {},
     "output_type": "execute_result"
    }
   ],
   "source": [
    "d.pop('key2')  #returns the popped value"
   ]
  },
  {
   "cell_type": "code",
   "execution_count": 10,
   "id": "49cbf966",
   "metadata": {},
   "outputs": [
    {
     "data": {
      "text/plain": [
       "{'key1': 'value1'}"
      ]
     },
     "execution_count": 10,
     "metadata": {},
     "output_type": "execute_result"
    }
   ],
   "source": [
    "d"
   ]
  },
  {
   "cell_type": "code",
   "execution_count": 11,
   "id": "4e31a592",
   "metadata": {},
   "outputs": [
    {
     "ename": "KeyError",
     "evalue": "'key2'",
     "output_type": "error",
     "traceback": [
      "\u001b[1;31m---------------------------------------------------------------------------\u001b[0m",
      "\u001b[1;31mKeyError\u001b[0m                                  Traceback (most recent call last)",
      "Cell \u001b[1;32mIn [11], line 1\u001b[0m\n\u001b[1;32m----> 1\u001b[0m \u001b[38;5;28;01mdel\u001b[39;00m d[\u001b[38;5;124m'\u001b[39m\u001b[38;5;124mkey2\u001b[39m\u001b[38;5;124m'\u001b[39m]\n",
      "\u001b[1;31mKeyError\u001b[0m: 'key2'"
     ]
    }
   ],
   "source": [
    "del d['key2']#doesn't return anything"
   ]
  },
  {
   "cell_type": "code",
   "execution_count": 16,
   "id": "2ea6f782",
   "metadata": {},
   "outputs": [
    {
     "ename": "KeyError",
     "evalue": "'popitem(): dictionary is empty'",
     "output_type": "error",
     "traceback": [
      "\u001b[1;31m---------------------------------------------------------------------------\u001b[0m",
      "\u001b[1;31mKeyError\u001b[0m                                  Traceback (most recent call last)",
      "Cell \u001b[1;32mIn [16], line 1\u001b[0m\n\u001b[1;32m----> 1\u001b[0m d\u001b[38;5;241m.\u001b[39mpopitem()\n",
      "\u001b[1;31mKeyError\u001b[0m: 'popitem(): dictionary is empty'"
     ]
    }
   ],
   "source": [
    "d.popitem()#removes and returns last key:value pair:: returned as tuple"
   ]
  },
  {
   "cell_type": "code",
   "execution_count": null,
   "id": "80f5c42a",
   "metadata": {},
   "outputs": [],
   "source": []
  },
  {
   "cell_type": "code",
   "execution_count": 17,
   "id": "cd6e299b",
   "metadata": {},
   "outputs": [],
   "source": [
    "#Distinct items in list:::Like count number of distinct visitors to a site"
   ]
  },
  {
   "cell_type": "code",
   "execution_count": 32,
   "id": "0f817735",
   "metadata": {},
   "outputs": [],
   "source": [
    "users=[10,20,10,30,30,20]"
   ]
  },
  {
   "cell_type": "code",
   "execution_count": 29,
   "id": "ca4afd00",
   "metadata": {},
   "outputs": [],
   "source": [
    "users={i:f\"f({i})\"  for i in users}"
   ]
  },
  {
   "cell_type": "code",
   "execution_count": 30,
   "id": "81032e9e",
   "metadata": {},
   "outputs": [
    {
     "data": {
      "text/plain": [
       "{10: 'f(10)', 20: 'f(20)', 30: 'f(30)'}"
      ]
     },
     "execution_count": 30,
     "metadata": {},
     "output_type": "execute_result"
    }
   ],
   "source": [
    "users"
   ]
  },
  {
   "cell_type": "code",
   "execution_count": 31,
   "id": "8b3625a6",
   "metadata": {},
   "outputs": [
    {
     "data": {
      "text/plain": [
       "3"
      ]
     },
     "execution_count": 31,
     "metadata": {},
     "output_type": "execute_result"
    }
   ],
   "source": [
    "len(users)"
   ]
  },
  {
   "cell_type": "code",
   "execution_count": 35,
   "id": "6aa03398",
   "metadata": {},
   "outputs": [],
   "source": [
    "users=len(set(users))# using sets  #much more efficient"
   ]
  },
  {
   "cell_type": "code",
   "execution_count": 37,
   "id": "0f678027",
   "metadata": {},
   "outputs": [
    {
     "data": {
      "text/plain": [
       "3"
      ]
     },
     "execution_count": 37,
     "metadata": {},
     "output_type": "execute_result"
    }
   ],
   "source": [
    "users"
   ]
  },
  {
   "cell_type": "code",
   "execution_count": 77,
   "id": "03f77857",
   "metadata": {},
   "outputs": [],
   "source": [
    "#if there is a sub-array with zero sum   ##sub-array is contiguous elements\n",
    "l=[1,4,13,-3,-10,5]\n",
    "\n"
   ]
  },
  {
   "cell_type": "code",
   "execution_count": 84,
   "id": "eedcca06",
   "metadata": {},
   "outputs": [],
   "source": [
    "def isZero(l):\n",
    "    pre_sum=0\n",
    "    h=set()\n",
    "    for i in range(len(l)):\n",
    "        pre_sum +=l[i]\n",
    "        if pre_sum==0 or pre_sum in h:\n",
    "            return True\n",
    "        h.add(pre_sum)\n",
    "    return h"
   ]
  },
  {
   "cell_type": "code",
   "execution_count": 85,
   "id": "89b81460",
   "metadata": {},
   "outputs": [
    {
     "data": {
      "text/plain": [
       "True"
      ]
     },
     "execution_count": 85,
     "metadata": {},
     "output_type": "execute_result"
    }
   ],
   "source": [
    "isZero(l)"
   ]
  },
  {
   "cell_type": "code",
   "execution_count": 86,
   "id": "9818697c",
   "metadata": {},
   "outputs": [],
   "source": [
    "s=\"geeksgeeks\""
   ]
  },
  {
   "cell_type": "code",
   "execution_count": 88,
   "id": "6653a5bb",
   "metadata": {},
   "outputs": [],
   "source": [
    "from collections import Counter"
   ]
  },
  {
   "cell_type": "code",
   "execution_count": 89,
   "id": "6cb22edc",
   "metadata": {},
   "outputs": [],
   "source": [
    "cnt=Counter(s)"
   ]
  },
  {
   "cell_type": "code",
   "execution_count": 90,
   "id": "20089e88",
   "metadata": {},
   "outputs": [
    {
     "data": {
      "text/plain": [
       "Counter({'g': 2, 'e': 4, 'k': 2, 's': 2})"
      ]
     },
     "execution_count": 90,
     "metadata": {},
     "output_type": "execute_result"
    }
   ],
   "source": [
    "cnt"
   ]
  },
  {
   "cell_type": "code",
   "execution_count": 91,
   "id": "fcab9ae7",
   "metadata": {},
   "outputs": [],
   "source": [
    "s='onetwothree'"
   ]
  },
  {
   "cell_type": "code",
   "execution_count": 92,
   "id": "67c6c4e4",
   "metadata": {},
   "outputs": [
    {
     "data": {
      "text/plain": [
       "Counter({'o': 2, 'n': 1, 'e': 3, 't': 2, 'w': 1, 'h': 1, 'r': 1})"
      ]
     },
     "execution_count": 92,
     "metadata": {},
     "output_type": "execute_result"
    }
   ],
   "source": [
    "Counter(s)"
   ]
  },
  {
   "cell_type": "code",
   "execution_count": null,
   "id": "ba53b824",
   "metadata": {},
   "outputs": [],
   "source": []
  },
  {
   "cell_type": "code",
   "execution_count": 95,
   "id": "577d1130",
   "metadata": {},
   "outputs": [],
   "source": [
    "def isPal(s):\n",
    "    cnt=Counter(s)\n",
    "    odd=0\n",
    "    for freq in cnt.values():\n",
    "        if freq %2 !=0:\n",
    "            odd +=1\n",
    "            if odd>1:\n",
    "                return False\n",
    "    return True"
   ]
  },
  {
   "cell_type": "code",
   "execution_count": 96,
   "id": "10358e9f",
   "metadata": {},
   "outputs": [
    {
     "data": {
      "text/plain": [
       "True"
      ]
     },
     "execution_count": 96,
     "metadata": {},
     "output_type": "execute_result"
    }
   ],
   "source": [
    "isPal('geeksgeeks')"
   ]
  },
  {
   "cell_type": "code",
   "execution_count": 97,
   "id": "a3ade42e",
   "metadata": {},
   "outputs": [
    {
     "data": {
      "text/plain": [
       "False"
      ]
     },
     "execution_count": 97,
     "metadata": {},
     "output_type": "execute_result"
    }
   ],
   "source": [
    "isPal('geek')"
   ]
  },
  {
   "cell_type": "code",
   "execution_count": null,
   "id": "a71c997f",
   "metadata": {},
   "outputs": [],
   "source": []
  }
 ],
 "metadata": {
  "kernelspec": {
   "display_name": "Python 3 (ipykernel)",
   "language": "python",
   "name": "python3"
  },
  "language_info": {
   "codemirror_mode": {
    "name": "ipython",
    "version": 3
   },
   "file_extension": ".py",
   "mimetype": "text/x-python",
   "name": "python",
   "nbconvert_exporter": "python",
   "pygments_lexer": "ipython3",
   "version": "3.10.7"
  }
 },
 "nbformat": 4,
 "nbformat_minor": 5
}
