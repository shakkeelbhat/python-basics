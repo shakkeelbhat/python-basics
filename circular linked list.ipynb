{
 "cells": [
  {
   "cell_type": "raw",
   "id": "d8a303c0",
   "metadata": {},
   "source": [
    "\n",
    "circular linked list"
   ]
  },
  {
   "cell_type": "code",
   "execution_count": 1,
   "id": "c544814f",
   "metadata": {},
   "outputs": [],
   "source": [
    "class Node:\n",
    "    \n",
    "    def __init__(self,data):\n",
    "        self.data=data\n",
    "        self.next=None"
   ]
  },
  {
   "cell_type": "code",
   "execution_count": 2,
   "id": "41fc3088",
   "metadata": {},
   "outputs": [],
   "source": [
    "#head=None"
   ]
  },
  {
   "cell_type": "code",
   "execution_count": 3,
   "id": "ff3b9851",
   "metadata": {},
   "outputs": [],
   "source": [
    "temp1=Node(5)"
   ]
  },
  {
   "cell_type": "code",
   "execution_count": 4,
   "id": "670a5768",
   "metadata": {},
   "outputs": [],
   "source": [
    "temp2=Node(10)"
   ]
  },
  {
   "cell_type": "code",
   "execution_count": 5,
   "id": "e2c4e42b",
   "metadata": {},
   "outputs": [],
   "source": [
    "temp3=Node(15)"
   ]
  },
  {
   "cell_type": "code",
   "execution_count": 6,
   "id": "bfec4ec9",
   "metadata": {},
   "outputs": [],
   "source": [
    "temp4=Node(20)"
   ]
  },
  {
   "cell_type": "code",
   "execution_count": 7,
   "id": "72466f49",
   "metadata": {},
   "outputs": [],
   "source": [
    "head=temp1"
   ]
  },
  {
   "cell_type": "code",
   "execution_count": 8,
   "id": "c7a868eb",
   "metadata": {},
   "outputs": [],
   "source": [
    "#temp1.next=head"
   ]
  },
  {
   "cell_type": "code",
   "execution_count": 9,
   "id": "c96c6d9f",
   "metadata": {},
   "outputs": [],
   "source": [
    "temp1.next=temp2\n"
   ]
  },
  {
   "cell_type": "code",
   "execution_count": 10,
   "id": "84fbcad5",
   "metadata": {},
   "outputs": [],
   "source": [
    "temp2.next=temp3\n"
   ]
  },
  {
   "cell_type": "code",
   "execution_count": 11,
   "id": "98898f92",
   "metadata": {},
   "outputs": [],
   "source": [
    "temp3.next=temp4\n"
   ]
  },
  {
   "cell_type": "code",
   "execution_count": 12,
   "id": "813180bd",
   "metadata": {},
   "outputs": [],
   "source": [
    "temp4.next=head"
   ]
  },
  {
   "cell_type": "code",
   "execution_count": 13,
   "id": "e829353b",
   "metadata": {},
   "outputs": [],
   "source": [
    "def listAll(head):\n",
    "    if head is None:\n",
    "        return \n",
    "    print(head.data,end=\" \")\n",
    "    curr=head.next\n",
    "    while curr!=head:\n",
    "        print(curr.data,end=\" \")\n",
    "        curr=curr.next"
   ]
  },
  {
   "cell_type": "code",
   "execution_count": 14,
   "id": "5e5b470f",
   "metadata": {},
   "outputs": [
    {
     "name": "stdout",
     "output_type": "stream",
     "text": [
      "5 10 15 20 "
     ]
    }
   ],
   "source": [
    "listAll(head)"
   ]
  },
  {
   "cell_type": "code",
   "execution_count": 15,
   "id": "c7ad4bf4",
   "metadata": {},
   "outputs": [],
   "source": [
    "def insBegCLL(head,x):#insert element in the beginning of the circular linked list #O(n) operation\n",
    "    temp=Node(x)\n",
    "    if head is None:\n",
    "        head=temp\n",
    "        head.next=head\n",
    "        return head\n",
    "      \n",
    "    curr=head\n",
    "    while curr.next !=head:\n",
    "        curr=curr.next\n",
    "    curr.next=temp\n",
    "    temp.next=head\n",
    "    head=temp\n",
    "    return head"
   ]
  },
  {
   "cell_type": "code",
   "execution_count": null,
   "id": "14e2cd69",
   "metadata": {},
   "outputs": [],
   "source": []
  },
  {
   "cell_type": "code",
   "execution_count": 16,
   "id": "790df2a6",
   "metadata": {},
   "outputs": [],
   "source": [
    "head=insBegCLL(head,11)"
   ]
  },
  {
   "cell_type": "code",
   "execution_count": 17,
   "id": "48063f0b",
   "metadata": {},
   "outputs": [
    {
     "name": "stdout",
     "output_type": "stream",
     "text": [
      "11 5 10 15 20 "
     ]
    }
   ],
   "source": [
    "listAll(head)"
   ]
  },
  {
   "cell_type": "code",
   "execution_count": 18,
   "id": "21d1fa5a",
   "metadata": {},
   "outputs": [],
   "source": [
    "def insBegCLL(head,x):#constant time insert\n",
    "    temp=Node(x)\n",
    "    if head is None:\n",
    "        head=temp\n",
    "        head.next=head\n",
    "        return head\n",
    "    \n",
    "    temp.next=head.next \n",
    "    head.next=temp\n",
    "\n",
    "    #swap first two node data\n",
    "    head.data,temp.data=temp.data,head.data \n",
    "    return head\n",
    "    "
   ]
  },
  {
   "cell_type": "code",
   "execution_count": 19,
   "id": "aaedd461",
   "metadata": {},
   "outputs": [],
   "source": [
    "head=insBegCLL(head,30)"
   ]
  },
  {
   "cell_type": "code",
   "execution_count": 20,
   "id": "963adafa",
   "metadata": {},
   "outputs": [
    {
     "name": "stdout",
     "output_type": "stream",
     "text": [
      "30 11 5 10 15 20 "
     ]
    }
   ],
   "source": [
    "listAll(head)"
   ]
  },
  {
   "cell_type": "code",
   "execution_count": 21,
   "id": "289addda",
   "metadata": {},
   "outputs": [],
   "source": [
    "head=insBegCLL(head,25)"
   ]
  },
  {
   "cell_type": "code",
   "execution_count": 22,
   "id": "ecc49517",
   "metadata": {},
   "outputs": [
    {
     "name": "stdout",
     "output_type": "stream",
     "text": [
      "25 30 11 5 10 15 20 "
     ]
    }
   ],
   "source": [
    "listAll(head)"
   ]
  },
  {
   "cell_type": "code",
   "execution_count": 23,
   "id": "b9cbf314",
   "metadata": {},
   "outputs": [],
   "source": [
    "def insEndCLL(head,x):#theta(n)\n",
    "    temp=Node(x)\n",
    "    if head is None:\n",
    "        head=temp\n",
    "        head.next=head\n",
    "        return head\n",
    "    curr=head\n",
    "    while curr.next is not head:\n",
    "        curr=curr.next\n",
    "    curr.next=temp\n",
    "    temp.next=head\n",
    "    \n",
    "    return head"
   ]
  },
  {
   "cell_type": "code",
   "execution_count": 24,
   "id": "c1ddf1f8",
   "metadata": {},
   "outputs": [],
   "source": [
    "head=insEndCLL(head,40)"
   ]
  },
  {
   "cell_type": "code",
   "execution_count": 25,
   "id": "a2240ec9",
   "metadata": {},
   "outputs": [
    {
     "name": "stdout",
     "output_type": "stream",
     "text": [
      "25 30 11 5 10 15 20 40 "
     ]
    }
   ],
   "source": [
    "listAll(head)"
   ]
  },
  {
   "cell_type": "code",
   "execution_count": 26,
   "id": "dd52ce06",
   "metadata": {},
   "outputs": [],
   "source": [
    "def insEndCLL(head,x):#constant time insert\n",
    "    temp=Node(x)\n",
    "    if head is None:\n",
    "        head=temp\n",
    "        head.next=head\n",
    "        return head\n",
    "    #insert next to head\n",
    "    temp.next=head.next \n",
    "    head.next=temp\n",
    "    #swap head and head.next\n",
    "    head.data,temp.data=temp.data,head.data\n",
    "    #move head to 2nd node\n",
    "    head=head.next\n",
    "    \n",
    "    return head"
   ]
  },
  {
   "cell_type": "code",
   "execution_count": 27,
   "id": "a0f29c66",
   "metadata": {},
   "outputs": [],
   "source": [
    "head=insEndCLL(head,50)"
   ]
  },
  {
   "cell_type": "code",
   "execution_count": 28,
   "id": "fc802ee9",
   "metadata": {},
   "outputs": [
    {
     "name": "stdout",
     "output_type": "stream",
     "text": [
      "25 30 11 5 10 15 20 40 50 "
     ]
    }
   ],
   "source": [
    "listAll(head)"
   ]
  },
  {
   "cell_type": "code",
   "execution_count": 29,
   "id": "c1f6254a",
   "metadata": {},
   "outputs": [],
   "source": [
    "def deleteHeadCLL(head): # O(n)\n",
    "    \n",
    "    if head is None:\n",
    "        return None\n",
    "    if head.next is head:\n",
    "        return None\n",
    "    curr=head\n",
    "    while curr.next is not head:\n",
    "        curr=curr.next\n",
    "    curr.next=head.next\n",
    "    head=head.next\n",
    "    return head\n",
    "    "
   ]
  },
  {
   "cell_type": "code",
   "execution_count": null,
   "id": "e36c5b81",
   "metadata": {},
   "outputs": [],
   "source": []
  },
  {
   "cell_type": "code",
   "execution_count": 30,
   "id": "efc66c59",
   "metadata": {},
   "outputs": [],
   "source": [
    "def deleteHeadCLL(head): #theta(1)  #copy 2nd element data into head and then move head #basically delete 2nd element then\n",
    "    if head is None:\n",
    "        return None\n",
    "    elif head.next is head:\n",
    "        return None\n",
    "    else:\n",
    "        head.data=head.next.data\n",
    "        head.next=head.next.next\n",
    "        \n",
    "        return head\n"
   ]
  },
  {
   "cell_type": "code",
   "execution_count": 31,
   "id": "bed787d1",
   "metadata": {},
   "outputs": [
    {
     "name": "stdout",
     "output_type": "stream",
     "text": [
      "30 11 5 10 15 20 40 50 "
     ]
    }
   ],
   "source": [
    "head=deleteHeadCLL(head)\n",
    "listAll(head)"
   ]
  },
  {
   "cell_type": "code",
   "execution_count": 55,
   "id": "c311c867",
   "metadata": {},
   "outputs": [],
   "source": [
    "def deleteKCLL(head,k):\n",
    "    if head is None:\n",
    "        return head\n",
    "    elif k ==1:\n",
    "        return deleteHeadCLL(head)\n",
    "    else:\n",
    "        curr=head\n",
    "        for i in range(k-2):\n",
    "            curr=curr.next\n",
    "            if curr.next is head:\n",
    "                return head\n",
    "        curr.next=curr.next.next\n",
    "        return head\n",
    "            "
   ]
  },
  {
   "cell_type": "code",
   "execution_count": 34,
   "id": "afc41a5f",
   "metadata": {},
   "outputs": [
    {
     "name": "stdout",
     "output_type": "stream",
     "text": [
      "30 11 5 10 15 20 40 50 "
     ]
    }
   ],
   "source": [
    "listAll(head)"
   ]
  },
  {
   "cell_type": "code",
   "execution_count": 48,
   "id": "ffd37ca2",
   "metadata": {},
   "outputs": [],
   "source": [
    "head=deleteKCLL(head,1)\n",
    "listAll(head)"
   ]
  },
  {
   "cell_type": "code",
   "execution_count": 56,
   "id": "40634ded",
   "metadata": {},
   "outputs": [],
   "source": [
    "x1=Node(9)\n",
    "x2=Node(8)"
   ]
  },
  {
   "cell_type": "code",
   "execution_count": 57,
   "id": "a94c3aa8",
   "metadata": {},
   "outputs": [],
   "source": [
    "head=x1\n",
    "x1.next=x2\n",
    "x2.next=head"
   ]
  },
  {
   "cell_type": "code",
   "execution_count": 58,
   "id": "26a5eca3",
   "metadata": {},
   "outputs": [
    {
     "name": "stdout",
     "output_type": "stream",
     "text": [
      "9 8 "
     ]
    }
   ],
   "source": [
    "listAll(head)"
   ]
  },
  {
   "cell_type": "code",
   "execution_count": 61,
   "id": "56c6e6cb",
   "metadata": {},
   "outputs": [],
   "source": [
    "head=deleteKCLL(head,1)\n",
    "listAll(head)"
   ]
  },
  {
   "cell_type": "code",
   "execution_count": null,
   "id": "89c94b33",
   "metadata": {},
   "outputs": [],
   "source": []
  }
 ],
 "metadata": {
  "kernelspec": {
   "display_name": "Python 3 (ipykernel)",
   "language": "python",
   "name": "python3"
  },
  "language_info": {
   "codemirror_mode": {
    "name": "ipython",
    "version": 3
   },
   "file_extension": ".py",
   "mimetype": "text/x-python",
   "name": "python",
   "nbconvert_exporter": "python",
   "pygments_lexer": "ipython3",
   "version": "3.10.7"
  }
 },
 "nbformat": 4,
 "nbformat_minor": 5
}
