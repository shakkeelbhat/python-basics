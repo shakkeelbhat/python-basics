{
 "cells": [
  {
   "cell_type": "markdown",
   "id": "ed407839",
   "metadata": {},
   "source": [
    "Calling itself Directly or Indirectly"
   ]
  },
  {
   "cell_type": "raw",
   "id": "a449bf77",
   "metadata": {},
   "source": [
    "#RecursionError: Maximum Recursion depth exceeds    #limit on function calls   #Function call stack (last in first out)"
   ]
  },
  {
   "cell_type": "raw",
   "id": "a8c90f19",
   "metadata": {},
   "source": [
    "\n",
    "\n",
    "\n",
    "Reduce call into smaller explicitly handled problems\n",
    "Cases that are not reduced to handle explicitly ::Base cases::to stop the recursion."
   ]
  },
  {
   "cell_type": "raw",
   "id": "61a8b6cb",
   "metadata": {},
   "source": [
    "--Structure of Recursive Function--\n",
    "\n",
    "def recursiveFucntion():\n",
    "    \n",
    "    Base_cases\n",
    "    \n",
    "    \n",
    "    RecursiveCall   with atleast one change to parameter so that call approaches towards a base case"
   ]
  },
  {
   "cell_type": "raw",
   "id": "45d23b91",
   "metadata": {},
   "source": [
    "Applications of Recursion::\n",
    "  \n",
    "Dynamic Programming\n",
    "Backtracking\n",
    "Divide and conquer  (binary search, quicksort, mergesort)\n",
    "\n",
    "\n",
    "\n",
    "Many problems are inherently recursive in nature:\n",
    "-tower of hanoi\n",
    "-DFS bases traversals (e.g searching for a file in computer){DFS of graph and inOrder/preOrder/postOrder traversal of tree}"
   ]
  },
  {
   "cell_type": "code",
   "execution_count": 5,
   "id": "5b8ff419",
   "metadata": {},
   "outputs": [],
   "source": [
    "def fun(n):\n",
    "    if n==0:\n",
    "        return\n",
    "    fun(n-1)\n",
    "    print(n)\n",
    "    fun(n-1)"
   ]
  },
  {
   "cell_type": "code",
   "execution_count": 6,
   "id": "6c47330c",
   "metadata": {},
   "outputs": [
    {
     "name": "stdout",
     "output_type": "stream",
     "text": [
      "1\n",
      "2\n",
      "1\n",
      "3\n",
      "1\n",
      "2\n",
      "1\n"
     ]
    }
   ],
   "source": [
    "fun(3)"
   ]
  },
  {
   "cell_type": "code",
   "execution_count": 7,
   "id": "9cfe3304",
   "metadata": {},
   "outputs": [],
   "source": [
    "#fun3>fun2>fun1>fun2>fun1>fun3>fun2>fun1>fun2>fun3"
   ]
  },
  {
   "cell_type": "code",
   "execution_count": 5,
   "id": "e33c0d7a",
   "metadata": {},
   "outputs": [],
   "source": [
    "def getb(n):\n",
    "    if n==0:\n",
    "        return\n",
    "    getb(n//2)\n",
    "    print(n%2)"
   ]
  },
  {
   "cell_type": "raw",
   "id": "16ce754d",
   "metadata": {},
   "source": [
    "Above function is returning binary representation"
   ]
  },
  {
   "cell_type": "code",
   "execution_count": 6,
   "id": "71b1f592",
   "metadata": {},
   "outputs": [
    {
     "name": "stdout",
     "output_type": "stream",
     "text": [
      "1\n",
      "1\n",
      "0\n",
      "1\n"
     ]
    }
   ],
   "source": [
    "getb(13)"
   ]
  },
  {
   "cell_type": "code",
   "execution_count": 7,
   "id": "5a8422ae",
   "metadata": {},
   "outputs": [
    {
     "name": "stdout",
     "output_type": "stream",
     "text": [
      "1\n",
      "1\n",
      "0\n",
      "0\n"
     ]
    }
   ],
   "source": [
    "getb(12)"
   ]
  },
  {
   "cell_type": "code",
   "execution_count": 33,
   "id": "facf14b0",
   "metadata": {},
   "outputs": [],
   "source": [
    "def TofH(n,A,B,C):\n",
    "    if n==1:\n",
    "        print(f\"Move disc {n} from {A} to {C}\")\n",
    "    else:\n",
    "        TofH(n-1,A,C,B)\n",
    "        print(f\"Move disc {n} from {A} to {C}\")\n",
    "        TofH(n-1,B,A,C)"
   ]
  },
  {
   "cell_type": "code",
   "execution_count": 34,
   "id": "285f2fd2",
   "metadata": {},
   "outputs": [
    {
     "name": "stdout",
     "output_type": "stream",
     "text": [
      "Move disc 1 from A to C\n",
      "Move disc 2 from A to B\n",
      "Move disc 1 from C to B\n",
      "Move disc 3 from A to C\n",
      "Move disc 1 from B to A\n",
      "Move disc 2 from B to C\n",
      "Move disc 1 from A to C\n"
     ]
    }
   ],
   "source": [
    "TofH(3,'A','B','C')"
   ]
  },
  {
   "cell_type": "code",
   "execution_count": 37,
   "id": "901a01ce",
   "metadata": {},
   "outputs": [],
   "source": [
    "#T(n)=2^0+2^1+2^2..."
   ]
  },
  {
   "cell_type": "code",
   "execution_count": 38,
   "id": "8845a20b",
   "metadata": {},
   "outputs": [],
   "source": [
    "#Theta(2^n  +1 )  -----theta(2**n + 1)"
   ]
  },
  {
   "cell_type": "code",
   "execution_count": 77,
   "id": "d2d498b5",
   "metadata": {},
   "outputs": [],
   "source": [
    "def kill(n,k):\n",
    "    if n==1:\n",
    "        return 0\n",
    "    \n",
    "    else:\n",
    "        return ( kill(n-1,k)+k  %n)"
   ]
  },
  {
   "cell_type": "code",
   "execution_count": 81,
   "id": "a7498ef0",
   "metadata": {},
   "outputs": [
    {
     "data": {
      "text/plain": [
       "1"
      ]
     },
     "execution_count": 81,
     "metadata": {},
     "output_type": "execute_result"
    }
   ],
   "source": [
    "kill(2,3)"
   ]
  },
  {
   "cell_type": "code",
   "execution_count": null,
   "id": "8467cf85",
   "metadata": {},
   "outputs": [],
   "source": []
  },
  {
   "cell_type": "code",
   "execution_count": null,
   "id": "8847d20c",
   "metadata": {},
   "outputs": [],
   "source": []
  }
 ],
 "metadata": {
  "kernelspec": {
   "display_name": "Python 3 (ipykernel)",
   "language": "python",
   "name": "python3"
  },
  "language_info": {
   "codemirror_mode": {
    "name": "ipython",
    "version": 3
   },
   "file_extension": ".py",
   "mimetype": "text/x-python",
   "name": "python",
   "nbconvert_exporter": "python",
   "pygments_lexer": "ipython3",
   "version": "3.10.7"
  }
 },
 "nbformat": 4,
 "nbformat_minor": 5
}
