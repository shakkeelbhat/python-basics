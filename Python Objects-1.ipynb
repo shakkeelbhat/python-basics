{
 "cells": [
  {
   "cell_type": "markdown",
   "id": "93c3d9d3",
   "metadata": {},
   "source": [
    "# Objects, _ and __ variables"
   ]
  },
  {
   "cell_type": "code",
   "execution_count": 11,
   "id": "17a0e8b4",
   "metadata": {},
   "outputs": [],
   "source": [
    "class Dog:\n",
    "    def __init__(self,name,breed,age):\n",
    "        self.__name=name\n",
    "        self.breed=breed\n",
    "        self.age=age\n",
    "        \n",
    "        \n",
    "        \n",
    "    def bark(self):\n",
    "        print('woof')\n",
    "        \n",
    "    def fetch(self):\n",
    "        print('Fetching...')"
   ]
  },
  {
   "cell_type": "code",
   "execution_count": 12,
   "id": "3c95e560",
   "metadata": {},
   "outputs": [],
   "source": [
    "max_the_dog=Dog(\"max\",\"labrador\",5)"
   ]
  },
  {
   "cell_type": "code",
   "execution_count": 13,
   "id": "4d48c1c3",
   "metadata": {},
   "outputs": [
    {
     "ename": "AttributeError",
     "evalue": "'Dog' object has no attribute 'name'",
     "output_type": "error",
     "traceback": [
      "\u001b[1;31m---------------------------------------------------------------------------\u001b[0m",
      "\u001b[1;31mAttributeError\u001b[0m                            Traceback (most recent call last)",
      "Cell \u001b[1;32mIn [13], line 1\u001b[0m\n\u001b[1;32m----> 1\u001b[0m \u001b[38;5;28mprint\u001b[39m(max_the_dog\u001b[38;5;241m.\u001b[39mname)\n",
      "\u001b[1;31mAttributeError\u001b[0m: 'Dog' object has no attribute 'name'"
     ]
    }
   ],
   "source": [
    "print(max_the_dog.name)"
   ]
  },
  {
   "cell_type": "code",
   "execution_count": 21,
   "id": "3e64225d",
   "metadata": {},
   "outputs": [
    {
     "data": {
      "text/plain": [
       "'max'"
      ]
     },
     "execution_count": 21,
     "metadata": {},
     "output_type": "execute_result"
    }
   ],
   "source": [
    "max_the_dog._Dog__name"
   ]
  },
  {
   "cell_type": "code",
   "execution_count": 14,
   "id": "b91c0a82",
   "metadata": {},
   "outputs": [
    {
     "name": "stdout",
     "output_type": "stream",
     "text": [
      "labrador\n"
     ]
    }
   ],
   "source": [
    "print(max_the_dog.breed)"
   ]
  },
  {
   "cell_type": "code",
   "execution_count": 15,
   "id": "035549c1",
   "metadata": {},
   "outputs": [
    {
     "name": "stdout",
     "output_type": "stream",
     "text": [
      "5\n"
     ]
    }
   ],
   "source": [
    "print(max_the_dog.age)"
   ]
  },
  {
   "cell_type": "code",
   "execution_count": 16,
   "id": "ab917c2a",
   "metadata": {},
   "outputs": [
    {
     "name": "stdout",
     "output_type": "stream",
     "text": [
      "woof\n"
     ]
    }
   ],
   "source": [
    "max_the_dog.bark()"
   ]
  },
  {
   "cell_type": "code",
   "execution_count": 17,
   "id": "bf1af53f",
   "metadata": {},
   "outputs": [
    {
     "name": "stdout",
     "output_type": "stream",
     "text": [
      "Fetching...\n"
     ]
    }
   ],
   "source": [
    "max_the_dog.fetch()"
   ]
  },
  {
   "cell_type": "code",
   "execution_count": 18,
   "id": "ba2c1fa9",
   "metadata": {},
   "outputs": [],
   "source": [
    "dol_the_dog=Dog(\"dol\",\"Ger Shep\",7)"
   ]
  },
  {
   "cell_type": "code",
   "execution_count": 22,
   "id": "db0b08f7",
   "metadata": {},
   "outputs": [
    {
     "ename": "AttributeError",
     "evalue": "'Dog' object has no attribute '_name'",
     "output_type": "error",
     "traceback": [
      "\u001b[1;31m---------------------------------------------------------------------------\u001b[0m",
      "\u001b[1;31mAttributeError\u001b[0m                            Traceback (most recent call last)",
      "Cell \u001b[1;32mIn [22], line 1\u001b[0m\n\u001b[1;32m----> 1\u001b[0m \u001b[38;5;28mprint\u001b[39m(dol_the_dog\u001b[38;5;241m.\u001b[39m_name)\n",
      "\u001b[1;31mAttributeError\u001b[0m: 'Dog' object has no attribute '_name'"
     ]
    }
   ],
   "source": [
    "print(dol_the_dog._name)"
   ]
  },
  {
   "cell_type": "code",
   "execution_count": 20,
   "id": "5973a0e2",
   "metadata": {},
   "outputs": [
    {
     "data": {
      "text/plain": [
       "'dol'"
      ]
     },
     "execution_count": 20,
     "metadata": {},
     "output_type": "execute_result"
    }
   ],
   "source": [
    "dol_the_dog._Dog__name"
   ]
  },
  {
   "cell_type": "markdown",
   "id": "916afa47",
   "metadata": {},
   "source": [
    "# class variable vs instance variable"
   ]
  },
  {
   "cell_type": "code",
   "execution_count": 40,
   "id": "9633e4db",
   "metadata": {},
   "outputs": [],
   "source": [
    "class MyClass:\n",
    "    x =[1,2,3]"
   ]
  },
  {
   "cell_type": "code",
   "execution_count": 41,
   "id": "3c3657e1",
   "metadata": {},
   "outputs": [],
   "source": [
    "obj1 = MyClass()\n",
    "obj2 = MyClass()"
   ]
  },
  {
   "cell_type": "code",
   "execution_count": 42,
   "id": "a49c71a2",
   "metadata": {},
   "outputs": [
    {
     "name": "stdout",
     "output_type": "stream",
     "text": [
      "[1, 2, 3]\n",
      "[1, 2, 3]\n"
     ]
    }
   ],
   "source": [
    "print(obj1.x)\n",
    "print(obj2.x)"
   ]
  },
  {
   "cell_type": "code",
   "execution_count": 43,
   "id": "5653115f",
   "metadata": {},
   "outputs": [],
   "source": [
    "obj1.x.append(4)"
   ]
  },
  {
   "cell_type": "code",
   "execution_count": 44,
   "id": "a1f133dd",
   "metadata": {},
   "outputs": [
    {
     "name": "stdout",
     "output_type": "stream",
     "text": [
      "[1, 2, 3, 4]\n",
      "[1, 2, 3, 4]\n"
     ]
    }
   ],
   "source": [
    "print(obj1.x)\n",
    "print(obj2.x)"
   ]
  },
  {
   "cell_type": "code",
   "execution_count": null,
   "id": "1fc7773d",
   "metadata": {},
   "outputs": [],
   "source": []
  },
  {
   "cell_type": "code",
   "execution_count": 45,
   "id": "93e416c2",
   "metadata": {},
   "outputs": [],
   "source": [
    "class MyClass:\n",
    "    def __init__(self):\n",
    "        self.x=[1,2,3]"
   ]
  },
  {
   "cell_type": "code",
   "execution_count": 46,
   "id": "4427625f",
   "metadata": {},
   "outputs": [],
   "source": [
    "obj1 = MyClass()\n",
    "obj2 = MyClass()"
   ]
  },
  {
   "cell_type": "code",
   "execution_count": 47,
   "id": "8f724148",
   "metadata": {},
   "outputs": [
    {
     "name": "stdout",
     "output_type": "stream",
     "text": [
      "[1, 2, 3]\n",
      "[1, 2, 3]\n"
     ]
    }
   ],
   "source": [
    "print(obj1.x)\n",
    "print(obj2.x)"
   ]
  },
  {
   "cell_type": "code",
   "execution_count": 48,
   "id": "3e42da7d",
   "metadata": {},
   "outputs": [],
   "source": [
    "obj1.x.append(4)"
   ]
  },
  {
   "cell_type": "code",
   "execution_count": 49,
   "id": "829043f4",
   "metadata": {},
   "outputs": [
    {
     "name": "stdout",
     "output_type": "stream",
     "text": [
      "[1, 2, 3, 4]\n",
      "[1, 2, 3]\n"
     ]
    }
   ],
   "source": [
    "print(obj1.x)\n",
    "print(obj2.x)"
   ]
  },
  {
   "cell_type": "code",
   "execution_count": null,
   "id": "bbe75912",
   "metadata": {},
   "outputs": [],
   "source": []
  }
 ],
 "metadata": {
  "kernelspec": {
   "display_name": "Python 3 (ipykernel)",
   "language": "python",
   "name": "python3"
  },
  "language_info": {
   "codemirror_mode": {
    "name": "ipython",
    "version": 3
   },
   "file_extension": ".py",
   "mimetype": "text/x-python",
   "name": "python",
   "nbconvert_exporter": "python",
   "pygments_lexer": "ipython3",
   "version": "3.10.7"
  }
 },
 "nbformat": 4,
 "nbformat_minor": 5
}
