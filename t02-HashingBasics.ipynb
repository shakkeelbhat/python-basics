{
 "cells": [
  {
   "cell_type": "code",
   "execution_count": 1,
   "id": "098e67e6",
   "metadata": {},
   "outputs": [],
   "source": [
    "#Hashing\n",
    "\n",
    "# to implement dictionaries and sets\n",
    "\n",
    "#searh  insert delete in O(1)\n",
    "\n",
    "#hashing is not useful for:\n",
    "   #finding closest value} -----\n",
    "   #sorted data}            ----          AVL or Red Black tree\n",
    "   #prefix searching"
   ]
  },
  {
   "cell_type": "code",
   "execution_count": 2,
   "id": "d413304b",
   "metadata": {},
   "outputs": [],
   "source": [
    "#applications of hashing\n",
    "#-------------------------#\n",
    "#implementing dictinaries\n",
    "#Database indexing : indexing to find records\n",
    "#cryptography\n",
    "#caches   like urls become keys and data associated becomes values\n",
    "#symbol tamles in compilers/interpreters\n",
    "#routers ---finding the addresses for devices\n",
    "#getting data from databasesg"
   ]
  },
  {
   "cell_type": "code",
   "execution_count": 3,
   "id": "d47e09fa",
   "metadata": {},
   "outputs": [],
   "source": [
    "#using keys as array indexes doesnt work for phone numbers (1o**10), large numbers, strings\n",
    "\n",
    "#convert large values into small values and use as indexes  ------Hashing\n"
   ]
  },
  {
   "cell_type": "code",
   "execution_count": null,
   "id": "a5629fa3",
   "metadata": {},
   "outputs": [],
   "source": [
    "#collision handling\n",
    "\n",
    "#Perfect hashing > if we know the keys in advance  :: like designing dictionaries\n",
    "#if we do not know the keys in advance::\n",
    "    1#chaining -----make an array of linked list headers  (colliding keys are added to the linked list at the same index)\n",
    "        #performance:  m is no. of lsots in hash tables  -----  n is no. of keys to be inserted\n",
    "                 #load facto or alpha = n/m\n",
    "                 #Expected chain length = alpha\n",
    "                 #Expected time to search=O(1+alpha)  >> 1 for hash function computation + alphs for travelsal through chain\n",
    "                 #Expected time to insert, delete=O(1+alpha)\n",
    "                \n",
    "                \n",
    "                #not cache friendly  __|\\|\\|\\|\\__since data is at different locations\n",
    "                \n",
    "                #dynamic sized arrays are cache friendly\n",
    "                \n",
    "                \n",
    "                #Self balancing BST  do search, insert,delete at O(logl)   like from java v8   #no cache friendly\n",
    "    \n",
    "    \n",
    "    \n",
    "    2#open addressing>\n",
    "        #linear probing\n",
    "        #quadratic probing\n",
    "        #double hashing\n"
   ]
  },
  {
   "cell_type": "code",
   "execution_count": null,
   "id": "8323ad63",
   "metadata": {},
   "outputs": [],
   "source": []
  },
  {
   "cell_type": "code",
   "execution_count": 28,
   "id": "00c76f84",
   "metadata": {},
   "outputs": [],
   "source": [
    "#chaining\n",
    "\n",
    "#in chaining, Hash table never fails ...even if we have more keys..no hash table resizing required\n",
    "\n",
    "\n",
    "\n",
    "class MyHash:\n",
    "    \n",
    "    def __init__(self,b):\n",
    "        self.BUCKET=b\n",
    "        self.table=[[] for x in range(b)]\n",
    "        \n",
    "    def insert(self,x):\n",
    "        i=x%self.BUCKET\n",
    "        self.table[i].append(x)\n",
    "        \n",
    "    def list_items(self):\n",
    "        return self.table\n",
    "        \n",
    "    def remove(self,x):\n",
    "        i=x%self.BUCKET\n",
    "        if x in table[i]:\n",
    "            self.table[i].remove(x)\n",
    "        else:\n",
    "            return None\n",
    "        \n",
    "    def search(self,x):\n",
    "        i=x%self.BUCKET\n",
    "        if x in self.table[i]:\n",
    "            return x in self.table[i]\n",
    "        else:\n",
    "            return False\n",
    "    "
   ]
  },
  {
   "cell_type": "code",
   "execution_count": 29,
   "id": "b2d35137",
   "metadata": {},
   "outputs": [],
   "source": [
    "H=MyHash(7)"
   ]
  },
  {
   "cell_type": "code",
   "execution_count": 30,
   "id": "9c89e032",
   "metadata": {},
   "outputs": [],
   "source": [
    "H.insert(50)"
   ]
  },
  {
   "cell_type": "code",
   "execution_count": 31,
   "id": "73770708",
   "metadata": {},
   "outputs": [],
   "source": [
    "H.insert(51)"
   ]
  },
  {
   "cell_type": "code",
   "execution_count": 32,
   "id": "15566922",
   "metadata": {},
   "outputs": [],
   "source": [
    "H.insert(52)"
   ]
  },
  {
   "cell_type": "code",
   "execution_count": 33,
   "id": "3ac9e62b",
   "metadata": {},
   "outputs": [],
   "source": [
    "H.insert(54)"
   ]
  },
  {
   "cell_type": "code",
   "execution_count": 34,
   "id": "84352274",
   "metadata": {},
   "outputs": [
    {
     "data": {
      "text/plain": [
       "[[], [50], [51], [52], [], [54], []]"
      ]
     },
     "execution_count": 34,
     "metadata": {},
     "output_type": "execute_result"
    }
   ],
   "source": [
    "H.list_items()"
   ]
  },
  {
   "cell_type": "code",
   "execution_count": 35,
   "id": "e0315ea4",
   "metadata": {},
   "outputs": [
    {
     "data": {
      "text/plain": [
       "True"
      ]
     },
     "execution_count": 35,
     "metadata": {},
     "output_type": "execute_result"
    }
   ],
   "source": [
    "H.search(50)"
   ]
  },
  {
   "cell_type": "code",
   "execution_count": 36,
   "id": "71320749",
   "metadata": {},
   "outputs": [
    {
     "data": {
      "text/plain": [
       "False"
      ]
     },
     "execution_count": 36,
     "metadata": {},
     "output_type": "execute_result"
    }
   ],
   "source": [
    "H.search(55)"
   ]
  },
  {
   "cell_type": "code",
   "execution_count": 37,
   "id": "55463dab",
   "metadata": {},
   "outputs": [],
   "source": [
    "#Open Addressing\n",
    "    #uses single array\n",
    "    #no. of slots in Hash table >=  no. of keys to be inserted\n",
    "    \n",
    "    #cache friendly\n",
    "\n",
    "                #linear probing \n",
    "                #Quadratic probing\n",
    "                #Double Hashing"
   ]
  },
  {
   "cell_type": "code",
   "execution_count": 38,
   "id": "3761f8bb",
   "metadata": {
    "collapsed": true
   },
   "outputs": [],
   "source": [
    "#Linear Probing to solve collision\n",
    "    #if collision then linearly search for next empty slot    ))increment using modular arth.))circular manner\n",
    "    \n",
    "    \n",
    "    #while searching:\n",
    "                #--it linearly looks for the element\n",
    "                #doesnt stop on finding the deleted slot\n",
    "                #--stops on 1)finding they element or 2)if empty slot is found or 3)if whole hash table traversed\n",
    "            \n",
    "    #Deletion:::\n",
    "    #simply deleting a slot creates problem in searching if marked as empty(as search would stop)---\n",
    "    #----hence mark the slot as deleted and Not empty\n",
    "            \n",
    "  ##Issue with linear probing\n",
    "            #clustering        clusters of contnuous slots are formed--since it inserts to next slot on collision\n",
    "            #clustering makes all other operations expensive \n",
    "        \n",
    "        \n",
    "        \n",
    "        #Clustering "
   ]
  },
  {
   "cell_type": "code",
   "execution_count": 39,
   "id": "16d113c2",
   "metadata": {},
   "outputs": [],
   "source": [
    "#hash(key,i)---> hash of a key when at ith probe= (h(key)+i) %7"
   ]
  },
  {
   "cell_type": "markdown",
   "id": "2c5c589c",
   "metadata": {},
   "source": [
    "The main disadvantage of primary clustering (linear probing) is cluster formation,\n",
    "...more number of elements form a group for which it takes time to search and find a free slot in the table.\n",
    "\n",
    "To overcome this issue secondary clustering (quadratic probing) is used."
   ]
  },
  {
   "cell_type": "markdown",
   "id": "b6fd8758",
   "metadata": {},
   "source": [
    "Quadratic probing:\n",
    "\n",
    "(h(key)+i**2)%m\n",
    "Square means on collision it goes to ith square slot..first slot, then i=2 i,ce 4th slot, then 9th slot\n",
    "\n",
    "SECONDARY clusters formed\n",
    "Might not find an empty slot even if empties present...\n",
    " alpha < 0.5  and m is a prime number then only a free slot...that is number of slots(table size) should be more than double the number of keys"
   ]
  },
  {
   "cell_type": "markdown",
   "id": "37b7a61d",
   "metadata": {},
   "source": [
    "\n",
    "\n",
    "...Primary clustering means that if there is a cluster and the initial position of a new record would fall anywhere in the cluster the cluster size increases. \n",
    "             ...Linear probing leads to this type of clustering.\n",
    "\n",
    "...Secondary clustering is less severe, two records do only have the same collision chain if their initial position is the same. \n",
    "             ...For example quadratic probing leads to this type of clustering.\n"
   ]
  },
  {
   "cell_type": "markdown",
   "id": "e60da9d6",
   "metadata": {},
   "source": [
    "Double hashing:\n",
    "\n",
    "    (h1(key)+i*h2(key)) %m\n",
    "    \n",
    "Double hashing uses the idea of applying a second hash function to key when a collision occurs.\n",
    "\n",
    "    The advantage of Double hashing is that it is one of the best form of probing, producing a uniform distribution of records throughout a hash table.\n",
    "    This technique does not yield any clusters.\n",
    "    It is one of effective method for resolving collisions."
   ]
  },
  {
   "cell_type": "code",
   "execution_count": 181,
   "id": "7b35aecf",
   "metadata": {},
   "outputs": [],
   "source": [
    "#implementing Open addresssing\n",
    "#   -1 to indicate cell us empty\n",
    "\n",
    "#   -2 to indicate item was removed from the cell\n",
    "\n",
    "#what if -1 and -2 are actual elements in the hash?\n",
    "\n",
    "\n",
    "class MyHash:\n",
    "    def __init__(self,c):\n",
    "        self.cap=c\n",
    "        self.table=[-1]*c\n",
    "        self.size=0\n",
    "        \n",
    "    def hash(self,x):\n",
    "        return x%self.cap\n",
    "    \n",
    "    def insert(self,x):\n",
    "        if self.size == self.cap:\n",
    "            return False\n",
    "        if self.search(x)==True:\n",
    "            return False\n",
    "        index=self.hash(x)\n",
    "        t=self.table\n",
    "        while t[index] not in (-1,-2):\n",
    "            index= (index+1)% self.cap\n",
    "        t[index]=x\n",
    "        self.size=self.size+1\n",
    "        return True\n",
    "\n",
    "            \n",
    "            \n",
    "    def search(self,x):\n",
    "        i=self.hash(x)\n",
    "        while self.table != -1:\n",
    "            if self.table[i]==x:\n",
    "                return True\n",
    "            i=(i+1)%self.cap\n",
    "            if i==self.hash(x):\n",
    "                return False\n",
    "        return False\n",
    "    \n",
    "    def list_items(self):\n",
    "        return self.table\n",
    "    \n",
    "    \n",
    "    def remove(self,x):\n",
    "        if x in self.table:\n",
    "            i=self.table.index(x)\n",
    "            self.table[i]=-2\n",
    "        else:\n",
    "            return False"
   ]
  },
  {
   "cell_type": "code",
   "execution_count": 182,
   "id": "899fc8a5",
   "metadata": {},
   "outputs": [],
   "source": [
    "H=MyHash(7)"
   ]
  },
  {
   "cell_type": "code",
   "execution_count": 183,
   "id": "9099d6ac",
   "metadata": {},
   "outputs": [
    {
     "data": {
      "text/plain": [
       "[-1, -1, -1, -1, -1, -1, -1]"
      ]
     },
     "execution_count": 183,
     "metadata": {},
     "output_type": "execute_result"
    }
   ],
   "source": [
    "H.list_items()"
   ]
  },
  {
   "cell_type": "code",
   "execution_count": 184,
   "id": "13de1f64",
   "metadata": {},
   "outputs": [
    {
     "data": {
      "text/plain": [
       "True"
      ]
     },
     "execution_count": 184,
     "metadata": {},
     "output_type": "execute_result"
    }
   ],
   "source": [
    "H.insert(49)"
   ]
  },
  {
   "cell_type": "code",
   "execution_count": 185,
   "id": "58701b3d",
   "metadata": {},
   "outputs": [
    {
     "data": {
      "text/plain": [
       "True"
      ]
     },
     "execution_count": 185,
     "metadata": {},
     "output_type": "execute_result"
    }
   ],
   "source": [
    "H.insert(50)"
   ]
  },
  {
   "cell_type": "code",
   "execution_count": 186,
   "id": "f6eb5f25",
   "metadata": {},
   "outputs": [
    {
     "data": {
      "text/plain": [
       "[49, 50, -1, -1, -1, -1, -1]"
      ]
     },
     "execution_count": 186,
     "metadata": {},
     "output_type": "execute_result"
    }
   ],
   "source": [
    "H.list_items()"
   ]
  },
  {
   "cell_type": "code",
   "execution_count": 187,
   "id": "fb1f0e69",
   "metadata": {},
   "outputs": [
    {
     "data": {
      "text/plain": [
       "True"
      ]
     },
     "execution_count": 187,
     "metadata": {},
     "output_type": "execute_result"
    }
   ],
   "source": [
    "H.insert(51)"
   ]
  },
  {
   "cell_type": "code",
   "execution_count": 188,
   "id": "bd0805d9",
   "metadata": {},
   "outputs": [
    {
     "data": {
      "text/plain": [
       "True"
      ]
     },
     "execution_count": 188,
     "metadata": {},
     "output_type": "execute_result"
    }
   ],
   "source": [
    "H.insert(63)"
   ]
  },
  {
   "cell_type": "code",
   "execution_count": 189,
   "id": "35d2399f",
   "metadata": {},
   "outputs": [
    {
     "data": {
      "text/plain": [
       "True"
      ]
     },
     "execution_count": 189,
     "metadata": {},
     "output_type": "execute_result"
    }
   ],
   "source": [
    "H.insert(69)"
   ]
  },
  {
   "cell_type": "code",
   "execution_count": 190,
   "id": "41bbfb88",
   "metadata": {},
   "outputs": [
    {
     "data": {
      "text/plain": [
       "[49, 50, 51, 63, -1, -1, 69]"
      ]
     },
     "execution_count": 190,
     "metadata": {},
     "output_type": "execute_result"
    }
   ],
   "source": [
    "H.list_items()"
   ]
  },
  {
   "cell_type": "code",
   "execution_count": 191,
   "id": "7b4dfee1",
   "metadata": {},
   "outputs": [
    {
     "data": {
      "text/plain": [
       "True"
      ]
     },
     "execution_count": 191,
     "metadata": {},
     "output_type": "execute_result"
    }
   ],
   "source": [
    "H.insert(58)"
   ]
  },
  {
   "cell_type": "code",
   "execution_count": 192,
   "id": "f013bec1",
   "metadata": {},
   "outputs": [
    {
     "data": {
      "text/plain": [
       "[49, 50, 51, 63, 58, -1, 69]"
      ]
     },
     "execution_count": 192,
     "metadata": {},
     "output_type": "execute_result"
    }
   ],
   "source": [
    "H.list_items()"
   ]
  },
  {
   "cell_type": "code",
   "execution_count": 193,
   "id": "d183338a",
   "metadata": {},
   "outputs": [
    {
     "data": {
      "text/plain": [
       "[49, 50, 51, 63, -2, -1, 69]"
      ]
     },
     "execution_count": 193,
     "metadata": {},
     "output_type": "execute_result"
    }
   ],
   "source": [
    "H.remove(58)\n",
    "H.list_items()"
   ]
  },
  {
   "cell_type": "markdown",
   "id": "d09d4fbb",
   "metadata": {},
   "source": [
    "open adressing\n",
    "\n",
    "Have to resize if keys are more\n",
    "For resizing, doubling technique can be used"
   ]
  },
  {
   "cell_type": "markdown",
   "id": "e65de9e6",
   "metadata": {},
   "source": [
    "#Chaining vs Open addressing\n",
    "\n",
    "Performance\n",
    "x=alpha\n",
    "\n",
    "Chaining                         \n",
    "(1+x)\n",
    "\n",
    "\n",
    "Open addressing\n",
    "1/(1-x)\n",
    "\n",
    "so if alpha is .9  i,e  90 percent of the cells are occupied then\n",
    "\n",
    "1+x = 1.9       1/(1-x) = 10\n",
    "so even when Hash table size is same, 90 percent of hash table is occupied, then it will cost 1.9 vs 10 comparisons for unsuccesful search, insert, delete\n",
    "\n",
    "In order to make performance of open addressing same as chaining, we will have to reduce alpha. That is we have to Increase Table size.\n",
    "\n"
   ]
  },
  {
   "cell_type": "code",
   "execution_count": null,
   "id": "faecd7da",
   "metadata": {},
   "outputs": [],
   "source": []
  },
  {
   "cell_type": "code",
   "execution_count": null,
   "id": "c0b3210f",
   "metadata": {},
   "outputs": [],
   "source": []
  },
  {
   "cell_type": "markdown",
   "id": "ef7b51ad",
   "metadata": {},
   "source": [
    "Set     \n",
    "\n",
    "\n",
    "Contains only Distinct items\n",
    "Unordered\n",
    "No indexing\n",
    "\n",
    "Some operations on sets are fast like Intersection, Union difference   as sets internally use Hashing\n",
    "\n",
    "\n"
   ]
  },
  {
   "cell_type": "code",
   "execution_count": 201,
   "id": "814158f2",
   "metadata": {},
   "outputs": [
    {
     "data": {
      "text/plain": [
       "set()"
      ]
     },
     "execution_count": 201,
     "metadata": {},
     "output_type": "execute_result"
    }
   ],
   "source": [
    "#to create an empty set\n",
    "\n",
    "#Use set constrcutor\n",
    "\n",
    "s4=set()\n",
    "s4"
   ]
  },
  {
   "cell_type": "code",
   "execution_count": 202,
   "id": "47b5c982",
   "metadata": {},
   "outputs": [
    {
     "data": {
      "text/plain": [
       "set"
      ]
     },
     "execution_count": 202,
     "metadata": {},
     "output_type": "execute_result"
    }
   ],
   "source": [
    "type(s4)"
   ]
  },
  {
   "cell_type": "code",
   "execution_count": 203,
   "id": "a8958634",
   "metadata": {},
   "outputs": [],
   "source": [
    "s3={}  #creates a dictionary"
   ]
  },
  {
   "cell_type": "code",
   "execution_count": 204,
   "id": "018ffb2b",
   "metadata": {},
   "outputs": [
    {
     "data": {
      "text/plain": [
       "dict"
      ]
     },
     "execution_count": 204,
     "metadata": {},
     "output_type": "execute_result"
    }
   ],
   "source": [
    "type(s3)"
   ]
  },
  {
   "cell_type": "code",
   "execution_count": 205,
   "id": "c8ea180f",
   "metadata": {},
   "outputs": [],
   "source": [
    "s4={10,20}"
   ]
  },
  {
   "cell_type": "code",
   "execution_count": 206,
   "id": "f9ef9d4d",
   "metadata": {},
   "outputs": [
    {
     "data": {
      "text/plain": [
       "{10, 20}"
      ]
     },
     "execution_count": 206,
     "metadata": {},
     "output_type": "execute_result"
    }
   ],
   "source": [
    "s4"
   ]
  },
  {
   "cell_type": "code",
   "execution_count": 207,
   "id": "409817a1",
   "metadata": {},
   "outputs": [],
   "source": [
    "s4.add(30)"
   ]
  },
  {
   "cell_type": "code",
   "execution_count": 208,
   "id": "b89e30eb",
   "metadata": {},
   "outputs": [
    {
     "data": {
      "text/plain": [
       "{10, 20, 30}"
      ]
     },
     "execution_count": 208,
     "metadata": {},
     "output_type": "execute_result"
    }
   ],
   "source": [
    "s4"
   ]
  },
  {
   "cell_type": "code",
   "execution_count": 209,
   "id": "6bf421db",
   "metadata": {},
   "outputs": [],
   "source": [
    "s4.update([40,50])#udpate adds the items of an iterable"
   ]
  },
  {
   "cell_type": "code",
   "execution_count": 210,
   "id": "ad4a2aef",
   "metadata": {},
   "outputs": [
    {
     "data": {
      "text/plain": [
       "{10, 20, 30, 40, 50}"
      ]
     },
     "execution_count": 210,
     "metadata": {},
     "output_type": "execute_result"
    }
   ],
   "source": [
    "s4"
   ]
  },
  {
   "cell_type": "code",
   "execution_count": 211,
   "id": "453a4c27",
   "metadata": {},
   "outputs": [],
   "source": [
    "s4.update([60],[70,80])#udpate adds the items of  iterables"
   ]
  },
  {
   "cell_type": "code",
   "execution_count": 212,
   "id": "794ecef2",
   "metadata": {},
   "outputs": [
    {
     "data": {
      "text/plain": [
       "{10, 20, 30, 40, 50, 60, 70, 80}"
      ]
     },
     "execution_count": 212,
     "metadata": {},
     "output_type": "execute_result"
    }
   ],
   "source": [
    "s4"
   ]
  },
  {
   "cell_type": "code",
   "execution_count": 214,
   "id": "c889a9b7",
   "metadata": {},
   "outputs": [],
   "source": [
    "s4.discard(80)"
   ]
  },
  {
   "cell_type": "code",
   "execution_count": 215,
   "id": "c7310432",
   "metadata": {},
   "outputs": [
    {
     "data": {
      "text/plain": [
       "{10, 20, 30, 40, 50, 60, 70}"
      ]
     },
     "execution_count": 215,
     "metadata": {},
     "output_type": "execute_result"
    }
   ],
   "source": [
    "s4"
   ]
  },
  {
   "cell_type": "code",
   "execution_count": 216,
   "id": "6525fc3c",
   "metadata": {},
   "outputs": [],
   "source": [
    "s4.remove(70)"
   ]
  },
  {
   "cell_type": "code",
   "execution_count": 217,
   "id": "322b76a0",
   "metadata": {},
   "outputs": [
    {
     "data": {
      "text/plain": [
       "{10, 20, 30, 40, 50, 60}"
      ]
     },
     "execution_count": 217,
     "metadata": {},
     "output_type": "execute_result"
    }
   ],
   "source": [
    "s4"
   ]
  },
  {
   "cell_type": "code",
   "execution_count": 218,
   "id": "f441db22",
   "metadata": {},
   "outputs": [],
   "source": [
    "s4.discard(80)"
   ]
  },
  {
   "cell_type": "code",
   "execution_count": 219,
   "id": "af73e375",
   "metadata": {},
   "outputs": [
    {
     "ename": "KeyError",
     "evalue": "80",
     "output_type": "error",
     "traceback": [
      "\u001b[1;31m---------------------------------------------------------------------------\u001b[0m",
      "\u001b[1;31mKeyError\u001b[0m                                  Traceback (most recent call last)",
      "Cell \u001b[1;32mIn [219], line 1\u001b[0m\n\u001b[1;32m----> 1\u001b[0m s4\u001b[38;5;241m.\u001b[39mremove(\u001b[38;5;241m80\u001b[39m)\n",
      "\u001b[1;31mKeyError\u001b[0m: 80"
     ]
    }
   ],
   "source": [
    "s4.remove(80)#raises error as item not present---so use with membership check"
   ]
  },
  {
   "cell_type": "code",
   "execution_count": null,
   "id": "ef01f5f4",
   "metadata": {},
   "outputs": [],
   "source": [
    "#Everything removed from a collection using clear\n",
    "\n",
    "s4.clear()  #object removes"
   ]
  },
  {
   "cell_type": "code",
   "execution_count": null,
   "id": "84d33147",
   "metadata": {},
   "outputs": [],
   "source": [
    "del s4   # remove whole object...can not access s4 after del"
   ]
  },
  {
   "cell_type": "code",
   "execution_count": 220,
   "id": "b93eabea",
   "metadata": {},
   "outputs": [],
   "source": [
    "s1={2,4,6,8}\n",
    "s2={3,6,9}"
   ]
  },
  {
   "cell_type": "code",
   "execution_count": 221,
   "id": "56204005",
   "metadata": {},
   "outputs": [
    {
     "data": {
      "text/plain": [
       "{2, 3, 4, 6, 8, 9}"
      ]
     },
     "execution_count": 221,
     "metadata": {},
     "output_type": "execute_result"
    }
   ],
   "source": [
    "s1|s2   #union"
   ]
  },
  {
   "cell_type": "code",
   "execution_count": 223,
   "id": "a2073fe9",
   "metadata": {},
   "outputs": [
    {
     "data": {
      "text/plain": [
       "{6}"
      ]
     },
     "execution_count": 223,
     "metadata": {},
     "output_type": "execute_result"
    }
   ],
   "source": [
    "s1&s2  #intersection"
   ]
  },
  {
   "cell_type": "code",
   "execution_count": 224,
   "id": "8f2d5194",
   "metadata": {},
   "outputs": [
    {
     "data": {
      "text/plain": [
       "{2, 4, 8}"
      ]
     },
     "execution_count": 224,
     "metadata": {},
     "output_type": "execute_result"
    }
   ],
   "source": [
    "s1-s2"
   ]
  },
  {
   "cell_type": "code",
   "execution_count": 227,
   "id": "6f457a5e",
   "metadata": {},
   "outputs": [
    {
     "data": {
      "text/plain": [
       "{2, 3, 4, 8, 9}"
      ]
     },
     "execution_count": 227,
     "metadata": {},
     "output_type": "execute_result"
    }
   ],
   "source": [
    "s1^s2"
   ]
  },
  {
   "cell_type": "code",
   "execution_count": null,
   "id": "3c30ac24",
   "metadata": {},
   "outputs": [],
   "source": []
  }
 ],
 "metadata": {
  "kernelspec": {
   "display_name": "Python 3 (ipykernel)",
   "language": "python",
   "name": "python3"
  },
  "language_info": {
   "codemirror_mode": {
    "name": "ipython",
    "version": 3
   },
   "file_extension": ".py",
   "mimetype": "text/x-python",
   "name": "python",
   "nbconvert_exporter": "python",
   "pygments_lexer": "ipython3",
   "version": "3.10.7"
  }
 },
 "nbformat": 4,
 "nbformat_minor": 5
}
