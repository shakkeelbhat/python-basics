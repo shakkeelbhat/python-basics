{
 "cells": [
  {
   "cell_type": "code",
   "execution_count": 51,
   "id": "5905b0e3",
   "metadata": {},
   "outputs": [],
   "source": [
    "def binSearch(l,x):\n",
    "    i=0\n",
    "    j=len(l)-1\n",
    "    while i<=j:\n",
    "        mid=(i+j)//2\n",
    "        \n",
    "        if x==l[mid]:\n",
    "            return mid\n",
    "        if x>l[mid]:\n",
    "            i=mid+1\n",
    "        else:\n",
    "            j=mid-1\n",
    "    return -1"
   ]
  },
  {
   "cell_type": "code",
   "execution_count": 56,
   "id": "33a9a8a7",
   "metadata": {},
   "outputs": [
    {
     "data": {
      "text/plain": [
       "-1"
      ]
     },
     "execution_count": 56,
     "metadata": {},
     "output_type": "execute_result"
    }
   ],
   "source": [
    "binSearch([1,2,3,4,5],1,0,4)"
   ]
  },
  {
   "cell_type": "code",
   "execution_count": 69,
   "id": "89f902e2",
   "metadata": {},
   "outputs": [],
   "source": [
    "def binSearch(l,x,i,j):\n",
    "    if i>j:\n",
    "        return -1\n",
    "    mid=(i+j)//2\n",
    "    \n",
    "    if x==l[mid]:\n",
    "        return mid\n",
    "    elif x<l[mid]:\n",
    "        return binSearch(l,x,i,mid-1)\n",
    "    else:\n",
    "        return binSearch(l,x,mid+1,j)\n",
    "    \n",
    "\n",
    "        "
   ]
  },
  {
   "cell_type": "code",
   "execution_count": 70,
   "id": "db713a97",
   "metadata": {},
   "outputs": [],
   "source": [
    "def bS(listt,el):\n",
    "    return binSearch(listt,el,0,len(listt)-1)\n"
   ]
  },
  {
   "cell_type": "code",
   "execution_count": 71,
   "id": "d0d1bedb",
   "metadata": {},
   "outputs": [
    {
     "data": {
      "text/plain": [
       "0"
      ]
     },
     "execution_count": 71,
     "metadata": {},
     "output_type": "execute_result"
    }
   ],
   "source": [
    "bS([1,2,3,4,5],1)"
   ]
  },
  {
   "cell_type": "code",
   "execution_count": 72,
   "id": "5d5c0f5a",
   "metadata": {},
   "outputs": [],
   "source": [
    "#logn  vs 1   ---------- Auxillary space complexity------- recursive  Vs Iterative"
   ]
  },
  {
   "cell_type": "code",
   "execution_count": 109,
   "id": "35796a24",
   "metadata": {},
   "outputs": [],
   "source": [
    "#first index search::: find the first occurance index of an element\n",
    "\n",
    "def Findex(l,x):\n",
    "    i=0\n",
    "    j=len(l)-1\n",
    "    while i<=j:\n",
    "        mid=(i+j)//2\n",
    "        \n",
    "        if x>l[mid]:\n",
    "            i=mid+1\n",
    "            \n",
    "        elif x<l[mid]:\n",
    "            j=mid-1\n",
    "            \n",
    "        else:\n",
    "            if mid==0 or l[mid-1]!=l[mid]:\n",
    "                return mid\n",
    "            else:\n",
    "                j= mid-1\n",
    "            \n",
    "    return -1"
   ]
  },
  {
   "cell_type": "code",
   "execution_count": 110,
   "id": "3d3235d5",
   "metadata": {},
   "outputs": [
    {
     "data": {
      "text/plain": [
       "1"
      ]
     },
     "execution_count": 110,
     "metadata": {},
     "output_type": "execute_result"
    }
   ],
   "source": [
    "Findex([1,3,3,3,3,3,4],3)"
   ]
  },
  {
   "cell_type": "code",
   "execution_count": 111,
   "id": "1b5c0e8b",
   "metadata": {},
   "outputs": [],
   "source": [
    "#last index search::find the last occurance index of an element\n",
    "\n",
    "def Lindex(l,x):\n",
    "    i=0\n",
    "    j=len(l)-1\n",
    "    while i<=j:\n",
    "        mid=(i+j)//2\n",
    "        \n",
    "        if x>l[mid]:\n",
    "            i=mid+1\n",
    "            \n",
    "        elif x<l[mid]:\n",
    "            j=mid-1\n",
    "            \n",
    "        else:\n",
    "            if mid==len(l)-1 or l[mid+1]!=l[mid]:\n",
    "                return mid\n",
    "            else:\n",
    "                i= mid+1\n",
    "            \n",
    "    return -1"
   ]
  },
  {
   "cell_type": "code",
   "execution_count": 112,
   "id": "65574aa9",
   "metadata": {},
   "outputs": [
    {
     "data": {
      "text/plain": [
       "6"
      ]
     },
     "execution_count": 112,
     "metadata": {},
     "output_type": "execute_result"
    }
   ],
   "source": [
    "Lindex([1,3,3,3,3,3,4],4)"
   ]
  },
  {
   "cell_type": "code",
   "execution_count": 138,
   "id": "2fd11049",
   "metadata": {},
   "outputs": [],
   "source": [
    "#count occurences in a sorted array\n",
    "def Coccur(l,x):\n",
    "    first=Findex(l,x)\n",
    "    if first == -1:\n",
    "        return 0\n",
    "    else:\n",
    "        return Lindex(l,x)-first +1"
   ]
  },
  {
   "cell_type": "code",
   "execution_count": 140,
   "id": "e35dde72",
   "metadata": {},
   "outputs": [
    {
     "data": {
      "text/plain": [
       "1"
      ]
     },
     "execution_count": 140,
     "metadata": {},
     "output_type": "execute_result"
    }
   ],
   "source": [
    "Coccur([1,3,3,3,3,3,4],4)"
   ]
  },
  {
   "cell_type": "code",
   "execution_count": null,
   "id": "f9ada76a",
   "metadata": {},
   "outputs": [],
   "source": []
  },
  {
   "cell_type": "code",
   "execution_count": null,
   "id": "adf2c2ee",
   "metadata": {},
   "outputs": [],
   "source": []
  }
 ],
 "metadata": {
  "kernelspec": {
   "display_name": "Python 3 (ipykernel)",
   "language": "python",
   "name": "python3"
  },
  "language_info": {
   "codemirror_mode": {
    "name": "ipython",
    "version": 3
   },
   "file_extension": ".py",
   "mimetype": "text/x-python",
   "name": "python",
   "nbconvert_exporter": "python",
   "pygments_lexer": "ipython3",
   "version": "3.10.7"
  }
 },
 "nbformat": 4,
 "nbformat_minor": 5
}
