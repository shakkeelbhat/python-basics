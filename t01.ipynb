{
 "cells": [
  {
   "cell_type": "code",
   "execution_count": 8,
   "id": "b4e0f097",
   "metadata": {},
   "outputs": [],
   "source": [
    "#lec1"
   ]
  },
  {
   "cell_type": "code",
   "execution_count": 1,
   "id": "acbfc33b",
   "metadata": {},
   "outputs": [],
   "source": [
    "l=['abc','xyz','def']\n"
   ]
  },
  {
   "cell_type": "code",
   "execution_count": 2,
   "id": "f7c43340",
   "metadata": {},
   "outputs": [
    {
     "name": "stdout",
     "output_type": "stream",
     "text": [
      "abc\n"
     ]
    }
   ],
   "source": [
    "print(min(l))# minimum of a list"
   ]
  },
  {
   "cell_type": "code",
   "execution_count": 3,
   "id": "0954afe5",
   "metadata": {},
   "outputs": [
    {
     "name": "stdout",
     "output_type": "stream",
     "text": [
      "xyz\n"
     ]
    }
   ],
   "source": [
    "print(max(l))# maximum from a list"
   ]
  },
  {
   "cell_type": "code",
   "execution_count": 6,
   "id": "a2a2c214",
   "metadata": {},
   "outputs": [],
   "source": [
    "l.sort() #sort the same list"
   ]
  },
  {
   "cell_type": "code",
   "execution_count": 7,
   "id": "e7adb40c",
   "metadata": {},
   "outputs": [
    {
     "data": {
      "text/plain": [
       "['abc', 'def', 'xyz']"
      ]
     },
     "execution_count": 7,
     "metadata": {},
     "output_type": "execute_result"
    }
   ],
   "source": [
    "l"
   ]
  },
  {
   "cell_type": "code",
   "execution_count": 9,
   "id": "c9c4144a",
   "metadata": {},
   "outputs": [],
   "source": [
    "#lec2"
   ]
  },
  {
   "cell_type": "code",
   "execution_count": 11,
   "id": "9b2e57e8",
   "metadata": {},
   "outputs": [],
   "source": [
    "#list uses array as internal Data structure   \n",
    "#array of references   \n",
    "#random access\n",
    "#cache friendliness > when we fetch an item, the contiguous locations in cache  > less cache misses\n",
    "\n",
    "\n",
    "#disadvantages\n",
    "#slower insertion, deletion, search\n",
    "\n",
    "\n",
    "#Multiplication factor  = 1.125 for python \n",
    "#Amortized time\n",
    " \n"
   ]
  },
  {
   "cell_type": "code",
   "execution_count": null,
   "id": "7e399aa1",
   "metadata": {},
   "outputs": [],
   "source": [
    "#lec3\n",
    "# copy using slicing\n",
    "\n",
    "# list copy always gives a different object/list\n",
    "\n",
    "# tuple is immutable, hence gives same object reference. Same for string\n",
    "\n"
   ]
  },
  {
   "cell_type": "code",
   "execution_count": 30,
   "id": "3e237fc9",
   "metadata": {},
   "outputs": [],
   "source": [
    "l1=[1,2,3]\n",
    "t1=(1,2,3)\n",
    "s1='abcdef'"
   ]
  },
  {
   "cell_type": "code",
   "execution_count": 13,
   "id": "7ad3a656",
   "metadata": {},
   "outputs": [],
   "source": [
    "l2=l1[:]"
   ]
  },
  {
   "cell_type": "code",
   "execution_count": 23,
   "id": "c3b4dd8b",
   "metadata": {},
   "outputs": [
    {
     "data": {
      "text/plain": [
       "False"
      ]
     },
     "execution_count": 23,
     "metadata": {},
     "output_type": "execute_result"
    }
   ],
   "source": [
    "l2 is l1"
   ]
  },
  {
   "cell_type": "code",
   "execution_count": null,
   "id": "23875160",
   "metadata": {},
   "outputs": [],
   "source": []
  },
  {
   "cell_type": "code",
   "execution_count": 16,
   "id": "585ba495",
   "metadata": {},
   "outputs": [],
   "source": [
    "t2=t1[:]"
   ]
  },
  {
   "cell_type": "code",
   "execution_count": 20,
   "id": "fe64aab2",
   "metadata": {},
   "outputs": [
    {
     "data": {
      "text/plain": [
       "True"
      ]
     },
     "execution_count": 20,
     "metadata": {},
     "output_type": "execute_result"
    }
   ],
   "source": [
    "t2 is t1"
   ]
  },
  {
   "cell_type": "code",
   "execution_count": null,
   "id": "b9eed680",
   "metadata": {},
   "outputs": [],
   "source": []
  },
  {
   "cell_type": "code",
   "execution_count": null,
   "id": "b9bcc328",
   "metadata": {},
   "outputs": [],
   "source": []
  },
  {
   "cell_type": "code",
   "execution_count": 31,
   "id": "29e356af",
   "metadata": {},
   "outputs": [],
   "source": [
    "s2 = s1[:]"
   ]
  },
  {
   "cell_type": "code",
   "execution_count": 32,
   "id": "319212dd",
   "metadata": {},
   "outputs": [
    {
     "data": {
      "text/plain": [
       "True"
      ]
     },
     "execution_count": 32,
     "metadata": {},
     "output_type": "execute_result"
    }
   ],
   "source": [
    "s2 is s1"
   ]
  },
  {
   "cell_type": "code",
   "execution_count": 33,
   "id": "b8fa4676",
   "metadata": {},
   "outputs": [
    {
     "data": {
      "text/plain": [
       "'abcde'"
      ]
     },
     "execution_count": 33,
     "metadata": {},
     "output_type": "execute_result"
    }
   ],
   "source": [
    "#remove a character from a string\n",
    "s2.replace('f','')#returns a different string; original not changed\n",
    "\n",
    "#s2.translate({ord('f'): None})"
   ]
  },
  {
   "cell_type": "code",
   "execution_count": 34,
   "id": "8417e8d1",
   "metadata": {},
   "outputs": [
    {
     "data": {
      "text/plain": [
       "'abcdef'"
      ]
     },
     "execution_count": 34,
     "metadata": {},
     "output_type": "execute_result"
    }
   ],
   "source": [
    "s1"
   ]
  },
  {
   "cell_type": "code",
   "execution_count": 35,
   "id": "2748ded1",
   "metadata": {},
   "outputs": [
    {
     "data": {
      "text/plain": [
       "'abcdef'"
      ]
     },
     "execution_count": 35,
     "metadata": {},
     "output_type": "execute_result"
    }
   ],
   "source": [
    "s2"
   ]
  },
  {
   "cell_type": "code",
   "execution_count": 39,
   "id": "bff71dc7",
   "metadata": {},
   "outputs": [],
   "source": [
    "#list comprehension\n",
    "l3=[1,2,3,4,5]"
   ]
  },
  {
   "cell_type": "code",
   "execution_count": 48,
   "id": "91a87c51",
   "metadata": {},
   "outputs": [],
   "source": [
    "d2={x: f\"ID{x}\" for x in range(5)}"
   ]
  },
  {
   "cell_type": "code",
   "execution_count": 49,
   "id": "cb06c1bb",
   "metadata": {},
   "outputs": [
    {
     "data": {
      "text/plain": [
       "{0: 'ID0', 1: 'ID1', 2: 'ID2', 3: 'ID3', 4: 'ID4'}"
      ]
     },
     "execution_count": 49,
     "metadata": {},
     "output_type": "execute_result"
    }
   ],
   "source": [
    "d2"
   ]
  },
  {
   "cell_type": "code",
   "execution_count": 113,
   "id": "be9d9807",
   "metadata": {},
   "outputs": [],
   "source": [
    "li=[1,2,3,4,5,6,7,8,9,10]"
   ]
  },
  {
   "cell_type": "code",
   "execution_count": 114,
   "id": "e2abaf69",
   "metadata": {},
   "outputs": [],
   "source": [
    "def rev_by_swapping(li):\n",
    "    i=0\n",
    "    j=len(li)-1\n",
    "    while i<j:\n",
    "        li[i],li[j]=li[j],li[i]\n",
    "        i+=1\n",
    "        j-=1\n",
    "    return li  "
   ]
  },
  {
   "cell_type": "code",
   "execution_count": 115,
   "id": "e5ec5a1f",
   "metadata": {},
   "outputs": [],
   "source": [
    "rev=rev_by_swapping(li)"
   ]
  },
  {
   "cell_type": "code",
   "execution_count": 116,
   "id": "d70883f3",
   "metadata": {},
   "outputs": [
    {
     "data": {
      "text/plain": [
       "[10, 9, 8, 7, 6, 5, 4, 3, 2, 1]"
      ]
     },
     "execution_count": 116,
     "metadata": {},
     "output_type": "execute_result"
    }
   ],
   "source": [
    "rev"
   ]
  },
  {
   "cell_type": "code",
   "execution_count": 123,
   "id": "ba53af66",
   "metadata": {},
   "outputs": [],
   "source": [
    "##### Rotate by d places  #####\n",
    "li=[1,2,3,4,5,6,7,8,9,10]"
   ]
  },
  {
   "cell_type": "code",
   "execution_count": 121,
   "id": "4ca2e317",
   "metadata": {},
   "outputs": [],
   "source": [
    "from collections import deque\n",
    "d=2\n",
    "dq=deque(li)\n",
    "dq.rotate(-d)\n",
    "nli=list(dq)"
   ]
  },
  {
   "cell_type": "code",
   "execution_count": 122,
   "id": "74a0a607",
   "metadata": {},
   "outputs": [
    {
     "data": {
      "text/plain": [
       "[3, 4, 5, 6, 7, 8, 9, 10, 1, 2]"
      ]
     },
     "execution_count": 122,
     "metadata": {},
     "output_type": "execute_result"
    }
   ],
   "source": [
    "nli"
   ]
  },
  {
   "cell_type": "code",
   "execution_count": 126,
   "id": "cd867790",
   "metadata": {},
   "outputs": [],
   "source": [
    "def lrotate(li,d):\n",
    "    for i in range(d):\n",
    "        li.append(li.pop(0))\n",
    "    return li\n",
    "#this is theta(n*d)"
   ]
  },
  {
   "cell_type": "code",
   "execution_count": 130,
   "id": "f37ca78f",
   "metadata": {},
   "outputs": [
    {
     "data": {
      "text/plain": [
       "[2, 3, 4, 5, 6, 7, 8, 9, 10, 1]"
      ]
     },
     "execution_count": 130,
     "metadata": {},
     "output_type": "execute_result"
    }
   ],
   "source": [
    "lrotate(li,3)"
   ]
  },
  {
   "cell_type": "code",
   "execution_count": null,
   "id": "732652b8",
   "metadata": {},
   "outputs": [],
   "source": [
    "def lrotate(li,d):\n",
    "    n=len(li)\n",
    "    reverse(li,0,d-1)\n",
    "    reverse(li,d,n-1)\n",
    "    reverse(li,0,n-1)\n",
    "    return li\n",
    "\n",
    "#this is theta(n)"
   ]
  },
  {
   "cell_type": "code",
   "execution_count": 187,
   "id": "005b1be0",
   "metadata": {},
   "outputs": [],
   "source": [
    "st= r\"C:\\project\\file.txt\"   #raw string # without r wont print correctly"
   ]
  },
  {
   "cell_type": "code",
   "execution_count": 188,
   "id": "2f15a3dd",
   "metadata": {},
   "outputs": [
    {
     "data": {
      "text/plain": [
       "'C:\\\\project\\\\file.txt'"
      ]
     },
     "execution_count": 188,
     "metadata": {},
     "output_type": "execute_result"
    }
   ],
   "source": [
    "st"
   ]
  },
  {
   "cell_type": "code",
   "execution_count": 199,
   "id": "27df7311",
   "metadata": {},
   "outputs": [],
   "source": [
    "#Reversing a string"
   ]
  },
  {
   "cell_type": "code",
   "execution_count": 193,
   "id": "fc57ea14",
   "metadata": {},
   "outputs": [],
   "source": [
    "st2='geek'"
   ]
  },
  {
   "cell_type": "code",
   "execution_count": 194,
   "id": "7412a9a3",
   "metadata": {},
   "outputs": [],
   "source": [
    "st3=st2[::-1]"
   ]
  },
  {
   "cell_type": "code",
   "execution_count": 195,
   "id": "e877d1e3",
   "metadata": {},
   "outputs": [
    {
     "data": {
      "text/plain": [
       "'keeg'"
      ]
     },
     "execution_count": 195,
     "metadata": {},
     "output_type": "execute_result"
    }
   ],
   "source": [
    "st3"
   ]
  },
  {
   "cell_type": "code",
   "execution_count": 196,
   "id": "30306cf4",
   "metadata": {},
   "outputs": [
    {
     "data": {
      "text/plain": [
       "'geek'"
      ]
     },
     "execution_count": 196,
     "metadata": {},
     "output_type": "execute_result"
    }
   ],
   "source": [
    "st2"
   ]
  },
  {
   "cell_type": "code",
   "execution_count": 197,
   "id": "58ea11ea",
   "metadata": {},
   "outputs": [],
   "source": [
    "rev=\"\"\n",
    "for i in st2:\n",
    "    rev= i+rev"
   ]
  },
  {
   "cell_type": "code",
   "execution_count": 198,
   "id": "84b3d685",
   "metadata": {},
   "outputs": [
    {
     "data": {
      "text/plain": [
       "'keeg'"
      ]
     },
     "execution_count": 198,
     "metadata": {},
     "output_type": "execute_result"
    }
   ],
   "source": [
    "rev"
   ]
  },
  {
   "cell_type": "code",
   "execution_count": 200,
   "id": "64dce153",
   "metadata": {},
   "outputs": [],
   "source": [
    "#ASCII : 128 characters # smaller range characters   #Extended Ascii 256\n",
    "#Unicode and Ascii of english alphabets are same in python  #unicode by Java, Python\n",
    "#ASCII\n",
    "#ord('a')"
   ]
  },
  {
   "cell_type": "code",
   "execution_count": 204,
   "id": "944eaace",
   "metadata": {},
   "outputs": [
    {
     "data": {
      "text/plain": [
       "True"
      ]
     },
     "execution_count": 204,
     "metadata": {},
     "output_type": "execute_result"
    }
   ],
   "source": [
    "\"abcde\">\"abcd\""
   ]
  },
  {
   "cell_type": "code",
   "execution_count": 210,
   "id": "812c757d",
   "metadata": {},
   "outputs": [
    {
     "data": {
      "text/plain": [
       "True"
      ]
     },
     "execution_count": 210,
     "metadata": {},
     "output_type": "execute_result"
    }
   ],
   "source": [
    "\"ZAB\" > \"ABZ\""
   ]
  },
  {
   "cell_type": "code",
   "execution_count": 214,
   "id": "9f7f4514",
   "metadata": {},
   "outputs": [
    {
     "data": {
      "text/plain": [
       "True"
      ]
     },
     "execution_count": 214,
     "metadata": {},
     "output_type": "execute_result"
    }
   ],
   "source": [
    "\"x\"> \"abcd\""
   ]
  },
  {
   "cell_type": "code",
   "execution_count": 215,
   "id": "721af4ba",
   "metadata": {},
   "outputs": [
    {
     "data": {
      "text/plain": [
       "True"
      ]
     },
     "execution_count": 215,
     "metadata": {},
     "output_type": "execute_result"
    }
   ],
   "source": [
    "\"ZA\" > \"AZ\""
   ]
  },
  {
   "cell_type": "code",
   "execution_count": 216,
   "id": "26323353",
   "metadata": {},
   "outputs": [
    {
     "data": {
      "text/plain": [
       "97"
      ]
     },
     "execution_count": 216,
     "metadata": {},
     "output_type": "execute_result"
    }
   ],
   "source": [
    "ord(\"a\")# find the unicode"
   ]
  },
  {
   "cell_type": "code",
   "execution_count": 217,
   "id": "7a082d89",
   "metadata": {},
   "outputs": [
    {
     "data": {
      "text/plain": [
       "'a'"
      ]
     },
     "execution_count": 217,
     "metadata": {},
     "output_type": "execute_result"
    }
   ],
   "source": [
    "chr(97)#unicode to character"
   ]
  },
  {
   "cell_type": "code",
   "execution_count": 219,
   "id": "3e736f3c",
   "metadata": {},
   "outputs": [
    {
     "name": "stdout",
     "output_type": "stream",
     "text": [
      "geek's courses\n"
     ]
    }
   ],
   "source": [
    "print(\"geek's courses\")"
   ]
  },
  {
   "cell_type": "code",
   "execution_count": 226,
   "id": "eff92876",
   "metadata": {},
   "outputs": [],
   "source": [
    "#formatted strings\n",
    "\n",
    "name='ahmad'\n",
    "last='bhat'\n",
    "st=\"Hello %s %s!, welcome to the course\"%(name,last)"
   ]
  },
  {
   "cell_type": "code",
   "execution_count": 227,
   "id": "494dea8b",
   "metadata": {},
   "outputs": [
    {
     "data": {
      "text/plain": [
       "'Hello ahmad bhat!, welcome to the course'"
      ]
     },
     "execution_count": 227,
     "metadata": {},
     "output_type": "execute_result"
    }
   ],
   "source": [
    "st"
   ]
  },
  {
   "cell_type": "code",
   "execution_count": 232,
   "id": "70e75c66",
   "metadata": {},
   "outputs": [],
   "source": [
    "#using format()\n",
    "st=\"Hello {0} {1}!, welcome to the course.\".format(name,last)"
   ]
  },
  {
   "cell_type": "code",
   "execution_count": 233,
   "id": "af86e982",
   "metadata": {},
   "outputs": [
    {
     "data": {
      "text/plain": [
       "'Hello ahmad bhat!, welcome to the course.'"
      ]
     },
     "execution_count": 233,
     "metadata": {},
     "output_type": "execute_result"
    }
   ],
   "source": [
    "st"
   ]
  },
  {
   "cell_type": "code",
   "execution_count": 234,
   "id": "7f3e55e5",
   "metadata": {},
   "outputs": [],
   "source": [
    "#using f-string\n",
    "st= f\"Hello {name} {last}!, welcome to the course..\""
   ]
  },
  {
   "cell_type": "code",
   "execution_count": 235,
   "id": "ab693ff2",
   "metadata": {},
   "outputs": [
    {
     "data": {
      "text/plain": [
       "'Hello ahmad bhat!, welcome to the course..'"
      ]
     },
     "execution_count": 235,
     "metadata": {},
     "output_type": "execute_result"
    }
   ],
   "source": [
    "st"
   ]
  },
  {
   "cell_type": "code",
   "execution_count": 236,
   "id": "a56d6ce8",
   "metadata": {},
   "outputs": [
    {
     "data": {
      "text/plain": [
       "'Upper case of ahmad is AHMAD'"
      ]
     },
     "execution_count": 236,
     "metadata": {},
     "output_type": "execute_result"
    }
   ],
   "source": [
    "f\"Upper case of {name} is {name.upper()}\""
   ]
  },
  {
   "cell_type": "code",
   "execution_count": 254,
   "id": "b2606853",
   "metadata": {},
   "outputs": [],
   "source": [
    "s1='Hello ahmad bhat!, welcome to the course!'"
   ]
  },
  {
   "cell_type": "code",
   "execution_count": 255,
   "id": "2f635d60",
   "metadata": {},
   "outputs": [],
   "source": [
    "s2='!'\n",
    "s3=\"Hello\"\n",
    "\n",
    "#valueError if substring not in main string"
   ]
  },
  {
   "cell_type": "code",
   "execution_count": 256,
   "id": "3f6ec421",
   "metadata": {},
   "outputs": [
    {
     "data": {
      "text/plain": [
       "16"
      ]
     },
     "execution_count": 256,
     "metadata": {},
     "output_type": "execute_result"
    }
   ],
   "source": [
    "s1.index(s2)#first match"
   ]
  },
  {
   "cell_type": "code",
   "execution_count": 257,
   "id": "6145536c",
   "metadata": {},
   "outputs": [
    {
     "data": {
      "text/plain": [
       "0"
      ]
     },
     "execution_count": 257,
     "metadata": {},
     "output_type": "execute_result"
    }
   ],
   "source": [
    "s1.rindex(s3)#last index where s3 is present"
   ]
  },
  {
   "cell_type": "code",
   "execution_count": 258,
   "id": "13d8316b",
   "metadata": {},
   "outputs": [
    {
     "data": {
      "text/plain": [
       "0"
      ]
     },
     "execution_count": 258,
     "metadata": {},
     "output_type": "execute_result"
    }
   ],
   "source": [
    "s1.index(s3,0,len(s1))"
   ]
  },
  {
   "cell_type": "code",
   "execution_count": 259,
   "id": "9727a937",
   "metadata": {},
   "outputs": [
    {
     "data": {
      "text/plain": [
       "0"
      ]
     },
     "execution_count": 259,
     "metadata": {},
     "output_type": "execute_result"
    }
   ],
   "source": [
    "s1.index(s3,0,6)"
   ]
  },
  {
   "cell_type": "code",
   "execution_count": null,
   "id": "541deac8",
   "metadata": {},
   "outputs": [],
   "source": []
  },
  {
   "cell_type": "code",
   "execution_count": 260,
   "id": "f9e08a33",
   "metadata": {},
   "outputs": [],
   "source": [
    "s1='Hello ahmad bhat!, welcome to the course!'\n"
   ]
  },
  {
   "cell_type": "code",
   "execution_count": 261,
   "id": "a4450fbf",
   "metadata": {},
   "outputs": [
    {
     "data": {
      "text/plain": [
       "True"
      ]
     },
     "execution_count": 261,
     "metadata": {},
     "output_type": "execute_result"
    }
   ],
   "source": [
    "s1.startswith('He')"
   ]
  },
  {
   "cell_type": "code",
   "execution_count": 265,
   "id": "816744bb",
   "metadata": {},
   "outputs": [
    {
     "data": {
      "text/plain": [
       "True"
      ]
     },
     "execution_count": 265,
     "metadata": {},
     "output_type": "execute_result"
    }
   ],
   "source": [
    "s1.startswith('ahmad',6)"
   ]
  },
  {
   "cell_type": "code",
   "execution_count": 266,
   "id": "900cdfa0",
   "metadata": {},
   "outputs": [
    {
     "data": {
      "text/plain": [
       "False"
      ]
     },
     "execution_count": 266,
     "metadata": {},
     "output_type": "execute_result"
    }
   ],
   "source": [
    "s1.startswith('ahmad',5)"
   ]
  },
  {
   "cell_type": "code",
   "execution_count": 270,
   "id": "5895b0dd",
   "metadata": {},
   "outputs": [
    {
     "data": {
      "text/plain": [
       "True"
      ]
     },
     "execution_count": 270,
     "metadata": {},
     "output_type": "execute_result"
    }
   ],
   "source": [
    "s1.startswith('welcome',19,len(s1))"
   ]
  },
  {
   "cell_type": "code",
   "execution_count": 271,
   "id": "5400aac1",
   "metadata": {},
   "outputs": [
    {
     "data": {
      "text/plain": [
       "['geeks', ' for', ' geeks']"
      ]
     },
     "execution_count": 271,
     "metadata": {},
     "output_type": "execute_result"
    }
   ],
   "source": [
    "s1=\"geeks, for, geeks\"\n",
    "s1.split(\",\")"
   ]
  },
  {
   "cell_type": "code",
   "execution_count": 272,
   "id": "91e9226e",
   "metadata": {},
   "outputs": [],
   "source": [
    "ls=['geeks', ' for', ' geeks']"
   ]
  },
  {
   "cell_type": "code",
   "execution_count": 275,
   "id": "4b1e0dbc",
   "metadata": {},
   "outputs": [
    {
     "data": {
      "text/plain": [
       "'geeks, for, geeks'"
      ]
     },
     "execution_count": 275,
     "metadata": {},
     "output_type": "execute_result"
    }
   ],
   "source": [
    "\",\".join(ls)"
   ]
  },
  {
   "cell_type": "code",
   "execution_count": 276,
   "id": "948d8b66",
   "metadata": {},
   "outputs": [
    {
     "data": {
      "text/plain": [
       "7"
      ]
     },
     "execution_count": 276,
     "metadata": {},
     "output_type": "execute_result"
    }
   ],
   "source": [
    "s1=\"geeks, for, geeks\"\n",
    "s2=\"for\"\n",
    "\n",
    "s1.find(s2)"
   ]
  },
  {
   "cell_type": "code",
   "execution_count": 281,
   "id": "49162a57",
   "metadata": {},
   "outputs": [
    {
     "data": {
      "text/plain": [
       "-1"
      ]
     },
     "execution_count": 281,
     "metadata": {},
     "output_type": "execute_result"
    }
   ],
   "source": [
    "s1.find('geks')# no error, Returns -1 if not found\n",
    "\n"
   ]
  },
  {
   "cell_type": "code",
   "execution_count": 282,
   "id": "de72045a",
   "metadata": {},
   "outputs": [
    {
     "data": {
      "text/plain": [
       "-1"
      ]
     },
     "execution_count": 282,
     "metadata": {},
     "output_type": "execute_result"
    }
   ],
   "source": [
    "s1.find('geks',0,len(s1))"
   ]
  },
  {
   "cell_type": "code",
   "execution_count": 279,
   "id": "8dfe077c",
   "metadata": {},
   "outputs": [
    {
     "ename": "ValueError",
     "evalue": "substring not found",
     "output_type": "error",
     "traceback": [
      "\u001b[1;31m---------------------------------------------------------------------------\u001b[0m",
      "\u001b[1;31mValueError\u001b[0m                                Traceback (most recent call last)",
      "Cell \u001b[1;32mIn [279], line 1\u001b[0m\n\u001b[1;32m----> 1\u001b[0m s1\u001b[38;5;241m.\u001b[39mindex(\u001b[38;5;124m'\u001b[39m\u001b[38;5;124mgeks\u001b[39m\u001b[38;5;124m'\u001b[39m)\n",
      "\u001b[1;31mValueError\u001b[0m: substring not found"
     ]
    }
   ],
   "source": [
    "s1.index('geks')#gives Error since not in main"
   ]
  },
  {
   "cell_type": "code",
   "execution_count": null,
   "id": "325bc318",
   "metadata": {},
   "outputs": [],
   "source": [
    "#search for pattern"
   ]
  },
  {
   "cell_type": "code",
   "execution_count": 288,
   "id": "4873da9a",
   "metadata": {},
   "outputs": [],
   "source": [
    "txt=\"geeks, for, geeks\"\n",
    "pat=\"geeks\""
   ]
  },
  {
   "cell_type": "code",
   "execution_count": 289,
   "id": "a0ac0508",
   "metadata": {},
   "outputs": [],
   "source": [
    "pos=txt.find(pat)"
   ]
  },
  {
   "cell_type": "code",
   "execution_count": 290,
   "id": "a2a3fff9",
   "metadata": {},
   "outputs": [
    {
     "data": {
      "text/plain": [
       "0"
      ]
     },
     "execution_count": 290,
     "metadata": {},
     "output_type": "execute_result"
    }
   ],
   "source": [
    "pos"
   ]
  },
  {
   "cell_type": "code",
   "execution_count": 292,
   "id": "c944dfa2",
   "metadata": {},
   "outputs": [
    {
     "name": "stdout",
     "output_type": "stream",
     "text": [
      "0\n",
      "12\n"
     ]
    }
   ],
   "source": [
    "while pos>=0:\n",
    "    print(pos)\n",
    "    pos=txt.find(pat,pos+1)"
   ]
  },
  {
   "cell_type": "code",
   "execution_count": null,
   "id": "c995b830",
   "metadata": {},
   "outputs": [],
   "source": [
    "#palindrome"
   ]
  },
  {
   "cell_type": "code",
   "execution_count": 312,
   "id": "dd025269",
   "metadata": {},
   "outputs": [],
   "source": [
    "def pal(st):\n",
    "    i=0\n",
    "    j=len(st)-1\n",
    "    flag=False\n",
    "    while i<j:\n",
    "        if st[i]!=st[j]:\n",
    "            flag=False\n",
    "            break\n",
    "        i+=1\n",
    "        j-=1\n",
    "        flag=True \n",
    "            \n",
    "    return flag"
   ]
  },
  {
   "cell_type": "code",
   "execution_count": 319,
   "id": "5534e9c5",
   "metadata": {},
   "outputs": [
    {
     "data": {
      "text/plain": [
       "True"
      ]
     },
     "execution_count": 319,
     "metadata": {},
     "output_type": "execute_result"
    }
   ],
   "source": [
    "pal('abba')"
   ]
  },
  {
   "cell_type": "code",
   "execution_count": 324,
   "id": "5b272538",
   "metadata": {},
   "outputs": [],
   "source": [
    "st='cda'"
   ]
  },
  {
   "cell_type": "code",
   "execution_count": 325,
   "id": "5dc709a2",
   "metadata": {},
   "outputs": [
    {
     "data": {
      "text/plain": [
       "False"
      ]
     },
     "execution_count": 325,
     "metadata": {},
     "output_type": "execute_result"
    }
   ],
   "source": [
    "st==st[::-1]"
   ]
  },
  {
   "cell_type": "code",
   "execution_count": null,
   "id": "d8f84b5c",
   "metadata": {},
   "outputs": [],
   "source": []
  }
 ],
 "metadata": {
  "kernelspec": {
   "display_name": "Python 3 (ipykernel)",
   "language": "python",
   "name": "python3"
  },
  "language_info": {
   "codemirror_mode": {
    "name": "ipython",
    "version": 3
   },
   "file_extension": ".py",
   "mimetype": "text/x-python",
   "name": "python",
   "nbconvert_exporter": "python",
   "pygments_lexer": "ipython3",
   "version": "3.10.7"
  }
 },
 "nbformat": 4,
 "nbformat_minor": 5
}
