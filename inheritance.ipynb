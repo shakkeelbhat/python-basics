{
 "cells": [
  {
   "cell_type": "markdown",
   "id": "ea9a0dc0",
   "metadata": {},
   "source": [
    "\n",
    "# Inheritance"
   ]
  },
  {
   "cell_type": "code",
   "execution_count": 1,
   "id": "8327846e",
   "metadata": {},
   "outputs": [],
   "source": [
    "class Animal:\n",
    "    def __init__(self,name,species):\n",
    "        self.name=name\n",
    "        self.species=species\n",
    "        \n",
    "        \n",
    "        \n",
    "    def make_sound(self):\n",
    "        print(\"Some generic animal sound\")"
   ]
  },
  {
   "cell_type": "code",
   "execution_count": 3,
   "id": "7660f799",
   "metadata": {},
   "outputs": [],
   "source": [
    "class Cat(Animal):\n",
    "    pass"
   ]
  },
  {
   "cell_type": "code",
   "execution_count": 4,
   "id": "b1570fa5",
   "metadata": {},
   "outputs": [],
   "source": [
    "fluffy = Cat(\"Fluffy\",\"Cat\")"
   ]
  },
  {
   "cell_type": "code",
   "execution_count": 5,
   "id": "f1c4aa13",
   "metadata": {},
   "outputs": [
    {
     "name": "stdout",
     "output_type": "stream",
     "text": [
      "Fluffy\n"
     ]
    }
   ],
   "source": [
    "print(fluffy.name)"
   ]
  },
  {
   "cell_type": "code",
   "execution_count": 6,
   "id": "0e24f61c",
   "metadata": {},
   "outputs": [
    {
     "name": "stdout",
     "output_type": "stream",
     "text": [
      "Cat\n"
     ]
    }
   ],
   "source": [
    "print(fluffy.species)"
   ]
  },
  {
   "cell_type": "code",
   "execution_count": 7,
   "id": "95c8db43",
   "metadata": {},
   "outputs": [
    {
     "name": "stdout",
     "output_type": "stream",
     "text": [
      "Some generic animal sound\n"
     ]
    }
   ],
   "source": [
    "fluffy.make_sound()"
   ]
  },
  {
   "cell_type": "markdown",
   "id": "a7c6e952",
   "metadata": {},
   "source": [
    "# Overriding the base class "
   ]
  },
  {
   "cell_type": "code",
   "execution_count": 8,
   "id": "91bbdb7c",
   "metadata": {},
   "outputs": [],
   "source": [
    "class Cat(Animal):\n",
    "    def make_sound(self):\n",
    "        print(\"Meow\")"
   ]
  },
  {
   "cell_type": "code",
   "execution_count": 9,
   "id": "dcb7d23b",
   "metadata": {},
   "outputs": [],
   "source": [
    "fluffy = Cat(\"Fluffy\",\"Cat\")"
   ]
  },
  {
   "cell_type": "code",
   "execution_count": 10,
   "id": "4837b184",
   "metadata": {},
   "outputs": [
    {
     "name": "stdout",
     "output_type": "stream",
     "text": [
      "Meow\n"
     ]
    }
   ],
   "source": [
    "fluffy.make_sound()"
   ]
  },
  {
   "cell_type": "code",
   "execution_count": 11,
   "id": "d1da4c7d",
   "metadata": {},
   "outputs": [],
   "source": [
    "class Cat(Animal):\n",
    "    def make_sound(self):\n",
    "        print(\"Meow\")\n",
    "        super().make_sound()"
   ]
  },
  {
   "cell_type": "code",
   "execution_count": 12,
   "id": "58300319",
   "metadata": {},
   "outputs": [],
   "source": [
    "fluffy = Cat(\"Fluffy\",\"Cat\")"
   ]
  },
  {
   "cell_type": "code",
   "execution_count": 13,
   "id": "e977bef4",
   "metadata": {},
   "outputs": [
    {
     "name": "stdout",
     "output_type": "stream",
     "text": [
      "Meow\n",
      "Some generic animal sound\n"
     ]
    }
   ],
   "source": [
    "fluffy.make_sound()"
   ]
  },
  {
   "cell_type": "code",
   "execution_count": null,
   "id": "dd809061",
   "metadata": {},
   "outputs": [],
   "source": []
  },
  {
   "cell_type": "code",
   "execution_count": 14,
   "id": "baf63af8",
   "metadata": {},
   "outputs": [],
   "source": [
    "class Animal:\n",
    "    def __init__(self,name,species):\n",
    "        self.name=name\n",
    "        self.species=species\n",
    "        \n",
    "        \n",
    "    def make_sound(self):\n",
    "        print(\"Some generic animal sound\")\n",
    "        \n",
    "        \n",
    "        \n",
    "        \n",
    "class Carnivore:\n",
    "    def __init__(self):\n",
    "        self.diet=\"Meat\"\n",
    "        \n",
    "        \n",
    "class Herbivore:\n",
    "    def __init__(self):\n",
    "        self.diet = \"Plants\""
   ]
  },
  {
   "cell_type": "code",
   "execution_count": 17,
   "id": "99d0b2fb",
   "metadata": {},
   "outputs": [],
   "source": [
    "class Omnivore(Carnivore,Herbivore):\n",
    "    pass"
   ]
  },
  {
   "cell_type": "code",
   "execution_count": 18,
   "id": "f940a54b",
   "metadata": {},
   "outputs": [],
   "source": [
    "toby = Omnivore()"
   ]
  },
  {
   "cell_type": "code",
   "execution_count": 19,
   "id": "3540ace9",
   "metadata": {},
   "outputs": [
    {
     "data": {
      "text/plain": [
       "'Meat'"
      ]
     },
     "execution_count": 19,
     "metadata": {},
     "output_type": "execute_result"
    }
   ],
   "source": [
    "toby.diet"
   ]
  },
  {
   "cell_type": "code",
   "execution_count": null,
   "id": "5fe4936b",
   "metadata": {},
   "outputs": [],
   "source": []
  },
  {
   "cell_type": "code",
   "execution_count": null,
   "id": "2e7af1b1",
   "metadata": {},
   "outputs": [],
   "source": []
  },
  {
   "cell_type": "code",
   "execution_count": 24,
   "id": "07f93763",
   "metadata": {},
   "outputs": [],
   "source": [
    "class A :\n",
    "    def method(self):\n",
    "        print(\"Method from class A\")\n",
    "        \n",
    "class B(A):\n",
    "    def method(self):\n",
    "        print(\"Method from class B\")\n",
    "        \n",
    "class C(A):\n",
    "    def method(self):\n",
    "        print(\"Method from class C\")\n",
    "        \n",
    "class D(B,C):\n",
    "    pass"
   ]
  },
  {
   "cell_type": "code",
   "execution_count": 25,
   "id": "1bc7dac8",
   "metadata": {},
   "outputs": [
    {
     "name": "stdout",
     "output_type": "stream",
     "text": [
      "Method from class B\n"
     ]
    }
   ],
   "source": [
    "d =D()\n",
    "d.method()"
   ]
  },
  {
   "cell_type": "code",
   "execution_count": 26,
   "id": "3d6f72a1",
   "metadata": {},
   "outputs": [],
   "source": [
    "class A :\n",
    "    def method(self):\n",
    "        print(\"Method from class A\")\n",
    "        \n",
    "class B(A):\n",
    "    pass\n",
    "        \n",
    "class C(A):\n",
    "    def method(self):\n",
    "        print(\"Method from class C\")\n",
    "        \n",
    "class D(B,C):\n",
    "    pass"
   ]
  },
  {
   "cell_type": "code",
   "execution_count": 27,
   "id": "06987d33",
   "metadata": {},
   "outputs": [
    {
     "name": "stdout",
     "output_type": "stream",
     "text": [
      "Method from class C\n"
     ]
    }
   ],
   "source": [
    "d =D()\n",
    "d.method()"
   ]
  },
  {
   "cell_type": "code",
   "execution_count": 28,
   "id": "bea93b7d",
   "metadata": {},
   "outputs": [],
   "source": [
    "class A :\n",
    "    def method(self):\n",
    "        print(\"Method from class A\")\n",
    "        \n",
    "class B(A):\n",
    "    pass\n",
    "        \n",
    "class C(A):\n",
    "    pass\n",
    "        \n",
    "class D(B,C):\n",
    "    pass"
   ]
  },
  {
   "cell_type": "code",
   "execution_count": 29,
   "id": "b1308642",
   "metadata": {},
   "outputs": [
    {
     "name": "stdout",
     "output_type": "stream",
     "text": [
      "Method from class A\n"
     ]
    }
   ],
   "source": [
    "d =D()\n",
    "d.method()"
   ]
  },
  {
   "cell_type": "code",
   "execution_count": null,
   "id": "20d5cdb9",
   "metadata": {},
   "outputs": [],
   "source": []
  }
 ],
 "metadata": {
  "kernelspec": {
   "display_name": "Python 3 (ipykernel)",
   "language": "python",
   "name": "python3"
  },
  "language_info": {
   "codemirror_mode": {
    "name": "ipython",
    "version": 3
   },
   "file_extension": ".py",
   "mimetype": "text/x-python",
   "name": "python",
   "nbconvert_exporter": "python",
   "pygments_lexer": "ipython3",
   "version": "3.10.7"
  }
 },
 "nbformat": 4,
 "nbformat_minor": 5
}
